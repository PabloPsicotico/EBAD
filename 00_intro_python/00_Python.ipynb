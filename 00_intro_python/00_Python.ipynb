{
 "cells": [
  {
   "cell_type": "markdown",
   "metadata": {},
   "source": [
    "# Introducción a la programación científica en Python"
   ]
  },
  {
   "cell_type": "markdown",
   "metadata": {},
   "source": [
    "## Computación en ciencias\n",
    "\n",
    "Históricamente la ciencia se ha dividido en experimentalista y teórica (o empirismo y racionalismo). Consecuentemente, una gran número de estudios en filosofía de la ciencia se han dedicado al estudio de la inter-relación de estos dos modos de hacer ciencia. Durante las últimas pocas décadas la computación ha emergido como una importante parte de la ciencia, y al hacerlo a desestabilizado esta visión binaria de la ciencia.\n",
    "\n",
    "La simulación computacional se ha establecido como una [Tercer práctica científica](http://press.uchicago.edu/ucp/books/book/chicago/S/bo9003670.html), que se relaciona con la teoría pero que _no es solo teoría_ ya que puede involucrar elementos de más de una teoría o elementos que no son parte de ninguna teoría como aproximaciones, conocimiento empírico, intuición e incluso _ficciones científicas_ ([ver](http://press.uchicago.edu/ucp/books/book/chicago/S/bo9003670.html)) y al mismo tiempo tiene características en común con los experimentos. Las simulaciones suelen ser usadas cuando los datos experimentales u observacionales son escasos (_la simulación hace de experimento_) o en casos en que un conjunto de datos no puede ser entendido dado las teorías existentes (_la simulación hace de teoría_).\n",
    "\n",
    "Las computadoras además han permitido el almacenamiento, procesamiento y análisis de grandes cantidades de datos, en algo que podría llamarse _observación computacional_ (aunque se suele preferir términos como _ciencia de datos_).\n",
    "\n",
    "Hoy en día, un creciente número de publicaciones científicas incluyen experimentos, cálculos numéricos, simulaciones o modelos computacionales. Además, casi todas las ramas de la ciencia tienen una versión computacional:\n",
    "\n",
    "* [Matemática Computacional](https://en.wikipedia.org/wiki/Computational_mathematics)  \n",
    "* [Estadística computacional](https://en.wikipedia.org/wiki/Computational_statistics)  \n",
    "* [Física computacional](https://en.wikipedia.org/wiki/Computational_physics)\n",
    "* [Química computacional](https://en.wikipedia.org/wiki/Computational_chemistry)\n",
    "* [Quimioinformática](https://en.wikipedia.org/wiki/Cheminformatics)\n",
    "* [Geoinformatica](https://en.wikipedia.org/wiki/Geoinformatics)\n",
    "* [Biología computacional](https://en.wikipedia.org/wiki/Computational_biology)\n",
    "* [Bioinformática](https://en.wikipedia.org/wiki/Bioinformatics)\n",
    "* [Linguistica computacional](https://en.wikipedia.org/wiki/Computational_linguistics)\n",
    "* [Sociología computacional](https://en.wikipedia.org/wiki/Computational_sociology)"
   ]
  },
  {
   "cell_type": "markdown",
   "metadata": {},
   "source": [
    "## Investigación reproducible\n",
    "\n",
    "Los datos científicos y los análisis realizados sobre dichos datos, son cada vez más complejos. Muchas veces usar descripciones al estilo de _materiales y métodos_ se torna complicado tanto para quien explica como para quien intenta entender. La premisa de la investigación reproducible consiste en que las publicaciones científicas deberían no solo publicar resultados, si no además datos (en crudo y procesados) y el código usado para hacer los análisis, simulaciones y/o modelos. Esto facilitaría la verificación de los resultados, reduciendo la posibilidad de fraude, de que errores honestos pasen inadvertidos y facilitaria el realizar nuevas pruebas (no pensadas por los autores originales) o generar nuevas ideas sobre los datos y resultados publicados.\n",
    "\n",
    "Es importante notar que en mucha de la literatura los términos replicación y reproducibilidad se usan de forma intercambiable y para confundir aún más las cosas entre los autores que suelen marcar diferencias entre estos términos algunos llaman replicación a los que otros llaman reproducibilidad.\n",
    "\n",
    "Hablando especificando de disciplinas computacionales podemos decir que:\n",
    "\n",
    "* Replicación: La autora de un artículo científico, que involucra cálculos numéricos debería ser capaz de correr de forma repetida simulaciones y análisis y obtener siempre los mismos (o equivalentes) resultados. Otro científico también debería ser capaz de realizar los mismos cálculos y obtener los mismos (o equivalentes) resultados, dada la información provista en una publicación.\n",
    "\n",
    "* Reproducibilidad: Usando una implementación independiente del método o usando un método diferente se deberían poder obtener el mismo resultado que en la publicación original. Si hubiese diferencias entre resultados deberían explicarse por diferencias del método (por ej un método es más sensible que otro).\n",
    "\n",
    "Todavía no existen guías bien establecidas de como administrar/distribuir el código fuente y los datos generados. Por ejemplo es relativamente raro que el código fuente de una simulación se haga público. De hecho es común que el código fuente sea considerado como una ventaja competitiva y no se haga público por esa misma razón.\n",
    "\n",
    "Sin embargo, esta visión ha comenzado a ser cuestionada, algunas científicas y revistas científicas han llamado a una mayor transparencia en las ciencias computacionales. Algunas revistas han comenzado a requerir que los autores hagan público el código y/o los datos, ya sea depositandolos en un repositorio público o bajo pedido expreso de terceros.\n",
    "\n",
    "En resumen. Es deseable que cualquier estudio científico sea reproducible y replicable.\n",
    "\n",
    "Para alcanzar estos objetivos es necesario:\n",
    "\n",
    "* Tener registro de que código y cual versión fueron usados para generar datos y figuras.\n",
    "\n",
    "* Tener resitro del entorno informático usado y de las versiones de todos los programas externos usados.\n",
    "\n",
    "* Asegurarse que todas las figuras, códigos y notas estén resguardados de forma segura y que puedan ser accedidos incluso años después de haber sido generados/usados.\n",
    "\n",
    "* Idealmente el codigo debería ser publicado en linea (por ejemplo en github[https://github.com]), Esto facilita que sea preservado y accedido por otros científicos."
   ]
  },
  {
   "cell_type": "markdown",
   "metadata": {},
   "source": [
    "## Python\n",
    "\n",
    "[Python](http://www.python.org/) es:\n",
    "* un lenguaje de programación moderno\n",
    "* de propósito general (esto quiere decir algo así como que no es el mejor lenguaje para casi nada, pero es suficientemente bueno para casi todo)\n",
    "* orientado a objetos (pero soporta otros paradigmas)\n",
    "* de alto nivel (es decir cercano al lenguaje humano y lejos del lenguaje de máquinas)\n",
    "* es interpretado (es decir no es necesario compilarlo antes de correrlo)\n",
    "* es multiplataforma (corre en muchos sistemas operativos)\n",
    "\n",
    "<img src=\"http://imgs.xkcd.com/comics/python.png\">\n",
    "\n",
    "## ¿Por qué es un buen lenguaje de programacion científica?\n",
    "\n",
    "Python is simultaneously powerful, flexible and easy to learn and use (in general, these qualities are traded off for a given programming language). Anything that can be coded in C, FORTRAN, or Java can be done in Python, almost always in fewer lines of code, and with fewer debugging headaches. Its standard library is extremely rich, including modules for string manipulation, regular expressions, file compression, mathematics, profiling and debugging (to name only a few). Unnecessary language constructs, such as `END` statements and brackets are absent, making the code terse, efficient, and easy to read. Finally, Python is object-oriented, which is an important programming paradigm particularly well-suited to scientific programming, which allows data structures to be abstracted in a natural way.\n",
    "\n",
    "* Es un lenguaje simple: Simple de leer, de escribir y de mantener.\n",
    "\n",
    "* Es de código abierto y gratuito!\n",
    "\n",
    "* Muy bien documentado.\n",
    "\n",
    "* Es ampliamente usado en la mayoría de las disciplinas científicas\n",
    "\n",
    "* Tiene una gran comunidad de usuarios (no todos científicos), por lo que es facil encontrar ayuda, tutoriales, blogs, etc. por ejemplo en [StackOverflow](stackoverflow.com).\n",
    "\n",
    "* Buena performance. Aunque estrictamente es un lenguaje _lento_ (el costo de la simplicidad). Existen formas de acelerarlo\n",
    "\n",
    "* Posee un extenso ecosistemas de librerías (llamadas también bibliotecas o módulos)\n",
    "    * [Numpy:](http://numpy.scipy.org)  Cálculo numerico y algebra lineal\n",
    "    * [Scipy:](http://www.scipy.org) -  Funciones comunmente usada en ciencias\n",
    "    * [Matplotlib:](http://www.matplotlib.org) - Gráficas cientificas\n",
    "    * [Seaborn:](http://web.stanford.edu/~mwaskom/software/seaborn/) - Gráficas cientificas atractivas\n",
    "    * [Ipython:](http://ipython.org/) - Computacion interactiva\n",
    "    * [Pandas:](http://pandas.pydata.org/) - Procesamiento de datos\n",
    "    * [PyMC3:](http://pymc-devs.github.io/pymc3/) - Estadística Bayesiana\n",
    "    * [Scikit-learn:](http://scikit-learn.org/) - Machine Learning \n",
    "    * [Statsmodels:](http://statsmodels.sourceforge.net/) Estadística \"clásica\"\n",
    "    * _agrega tu paquete favorito acá_  "
   ]
  },
  {
   "cell_type": "markdown",
   "metadata": {},
   "source": [
    "## Notebooks de IPython"
   ]
  },
  {
   "cell_type": "markdown",
   "metadata": {},
   "source": [
    "Los programas de Python (al igual que sucede con otras lenguajes) suelen ser guardados en archivos de texto donde, en general, cada linea de texto corresponde a una orden en particular. En el caso particular de Python estos archivos, por convención, tiene extensión _.py_. Esta forma de almacenar (y ejecturar) programas es ideal para programas extensos, como por ejemplo simulaciones o que no necesitan ser ejecutados _interactivamente_ como un driver de una impresora. En el caso de la computación cientifica suele ser conveniente poder ejecutar programas de forma _interactiva_ (como por ejemplo al explorar un conjunto de datos). Otra caracterísitca deseable es poder combinar el código con texto, gráficas, imágenes, formulas matemáticas, tablas, etc. Por lo que un formato de texto plano puede no ser la mejor forma de almacenar código científico. Es por eso que existe Jupyter. \n",
    "\n",
    "El archivo que estás leyendo, es una notebook de Jupyter. En vez de ser un texto plano, la información es almacenada como un archivo [JSON](http://es.wikipedia.org/wiki/JSON). "
   ]
  },
  {
   "cell_type": "markdown",
   "metadata": {},
   "source": [
    "### IPython  \n",
    "\n",
    "[IPython](http://ipython.org/)  is a command shell for interactive computing. It was originnaly developed for the Python programing language (and hence the name), but now supports multiple programming languages. Including for example Julia. Furthermore IPython allows to easily combines Python code with Cython, R, Octave, Bash, Perl or Ruby. Recently the [Jupyter-Project](http://jupyter.org/) has been proposed as the next step in the development of IPython.\n",
    "\n",
    "### IPython notebook  \n",
    "\n",
    "[IPython notebook](http://ipython.org/notebook.html) is what you are reading right now and is an HTML-javascript-based environment. An IPython notebook is a [JSON](https://en.wikipedia.org/wiki/JSON) document containing an ordered list of input/output cells which can contain code, text, mathematical formulas, plots and rich media. It is based on the IPython shell and provides an interactive environment to coding and to document all calculations facilitating reproducible research.\n",
    "\n",
    "Some of the most important features of IPython notebooks are:\n",
    "\n",
    "* Tab completion\n",
    "* Support for Markdown \n",
    "* Support for Mathjax\n",
    "* Magic functions\n",
    "* Enhanced introspection\n",
    "* Support for rich media\n",
    "* Access to the system shell\n",
    "\n",
    "#### Tab completion \n",
    "\n",
    "Tab completion works for python commands (including imported libraries), variable names, objects' atributes and file/directory names. If there is more than one option a list of possible completions is offered."
   ]
  },
  {
   "cell_type": "markdown",
   "metadata": {},
   "source": [
    "#### Support for Markdown\n",
    "\n",
    "[Markdown](http://daringfireball.net/projects/markdown/) is a popular markup language that is a superset of HTML. If you pay attention to the toolbar you will see that some of the cells are marked as code_ and others as _markdown_ (like this one). Just doble click on any of the _markdown cells_ and you will see that they are writted using markdown."
   ]
  },
  {
   "cell_type": "markdown",
   "metadata": {},
   "source": [
    "#### Mathjax  \n",
    "\n",
    "Mathjax is a javascript implementation of $LaTeX$ that allows equations to be embedded into HTML.\n",
    "\n",
    "$$\n",
    "\\int_{a}^{b} f(x)\\, dx \\approx \\frac{1}{2} \\sum_{k=1}^{N} \\left( x_{k} - x_{k-1} \\right) \\left( f(x_{k}) + f(x_{k-1}) \\right)\n",
    "$$"
   ]
  },
  {
   "cell_type": "markdown",
   "metadata": {},
   "source": [
    "#### Magic functions  \n",
    "\n",
    "IPython has a set of predefined _magic functions_ that you can call with a command line style syntax. \n",
    "\n",
    "There are two types of magics\n",
    "\n",
    "* line magics: these are commands prepended by one **%** character and whose arguments only extend to the end of the current line.\n",
    "* cell magics: They are call using **%%**, and they receive as argument both the current line where they are declared and the whole cell. Cell magics can only be used as the first line in a cell, and as a general principle you can only use one cell magic per cell.\n",
    "    \n",
    "As an example the  **%lsmagic** lists all the available magics."
   ]
  },
  {
   "cell_type": "code",
   "execution_count": 4,
   "metadata": {
    "collapsed": false
   },
   "outputs": [
    {
     "data": {
      "application/json": {
       "cell": {
        "!": "OSMagics",
        "HTML": "Other",
        "SVG": "Other",
        "bash": "Other",
        "capture": "ExecutionMagics",
        "debug": "ExecutionMagics",
        "file": "Other",
        "html": "DisplayMagics",
        "javascript": "DisplayMagics",
        "latex": "DisplayMagics",
        "perl": "Other",
        "prun": "ExecutionMagics",
        "pypy": "Other",
        "python": "Other",
        "python2": "Other",
        "python3": "Other",
        "ruby": "Other",
        "script": "ScriptMagics",
        "sh": "Other",
        "svg": "DisplayMagics",
        "sx": "OSMagics",
        "system": "OSMagics",
        "time": "ExecutionMagics",
        "timeit": "ExecutionMagics",
        "writefile": "OSMagics"
       },
       "line": {
        "alias": "OSMagics",
        "alias_magic": "BasicMagics",
        "autocall": "AutoMagics",
        "automagic": "AutoMagics",
        "autosave": "KernelMagics",
        "bookmark": "OSMagics",
        "cat": "Other",
        "cd": "OSMagics",
        "clear": "KernelMagics",
        "colors": "BasicMagics",
        "config": "ConfigMagics",
        "connect_info": "KernelMagics",
        "cp": "Other",
        "debug": "ExecutionMagics",
        "dhist": "OSMagics",
        "dirs": "OSMagics",
        "doctest_mode": "BasicMagics",
        "ed": "Other",
        "edit": "KernelMagics",
        "env": "OSMagics",
        "gui": "BasicMagics",
        "hist": "Other",
        "history": "HistoryMagics",
        "install_default_config": "DeprecatedMagics",
        "install_ext": "ExtensionMagics",
        "install_profiles": "DeprecatedMagics",
        "killbgscripts": "ScriptMagics",
        "ldir": "Other",
        "less": "KernelMagics",
        "lf": "Other",
        "lk": "Other",
        "ll": "Other",
        "load": "CodeMagics",
        "load_ext": "ExtensionMagics",
        "loadpy": "CodeMagics",
        "logoff": "LoggingMagics",
        "logon": "LoggingMagics",
        "logstart": "LoggingMagics",
        "logstate": "LoggingMagics",
        "logstop": "LoggingMagics",
        "ls": "Other",
        "lsmagic": "BasicMagics",
        "lx": "Other",
        "macro": "ExecutionMagics",
        "magic": "BasicMagics",
        "man": "KernelMagics",
        "matplotlib": "PylabMagics",
        "mkdir": "Other",
        "more": "KernelMagics",
        "mv": "Other",
        "notebook": "BasicMagics",
        "page": "BasicMagics",
        "pastebin": "CodeMagics",
        "pdb": "ExecutionMagics",
        "pdef": "NamespaceMagics",
        "pdoc": "NamespaceMagics",
        "pfile": "NamespaceMagics",
        "pinfo": "NamespaceMagics",
        "pinfo2": "NamespaceMagics",
        "popd": "OSMagics",
        "pprint": "BasicMagics",
        "precision": "BasicMagics",
        "profile": "BasicMagics",
        "prun": "ExecutionMagics",
        "psearch": "NamespaceMagics",
        "psource": "NamespaceMagics",
        "pushd": "OSMagics",
        "pwd": "OSMagics",
        "pycat": "OSMagics",
        "pylab": "PylabMagics",
        "qtconsole": "KernelMagics",
        "quickref": "BasicMagics",
        "recall": "HistoryMagics",
        "rehashx": "OSMagics",
        "reload_ext": "ExtensionMagics",
        "rep": "Other",
        "rerun": "HistoryMagics",
        "reset": "NamespaceMagics",
        "reset_selective": "NamespaceMagics",
        "rm": "Other",
        "rmdir": "Other",
        "run": "ExecutionMagics",
        "save": "CodeMagics",
        "sc": "OSMagics",
        "set_env": "OSMagics",
        "store": "StoreMagics",
        "sx": "OSMagics",
        "system": "OSMagics",
        "tb": "ExecutionMagics",
        "time": "ExecutionMagics",
        "timeit": "ExecutionMagics",
        "unalias": "OSMagics",
        "unload_ext": "ExtensionMagics",
        "who": "NamespaceMagics",
        "who_ls": "NamespaceMagics",
        "whos": "NamespaceMagics",
        "xdel": "NamespaceMagics",
        "xmode": "BasicMagics"
       }
      },
      "text/plain": [
       "Available line magics:\n",
       "%alias  %alias_magic  %autocall  %automagic  %autosave  %bookmark  %cat  %cd  %clear  %colors  %config  %connect_info  %cp  %debug  %dhist  %dirs  %doctest_mode  %ed  %edit  %env  %gui  %hist  %history  %install_default_config  %install_ext  %install_profiles  %killbgscripts  %ldir  %less  %lf  %lk  %ll  %load  %load_ext  %loadpy  %logoff  %logon  %logstart  %logstate  %logstop  %ls  %lsmagic  %lx  %macro  %magic  %man  %matplotlib  %mkdir  %more  %mv  %notebook  %page  %pastebin  %pdb  %pdef  %pdoc  %pfile  %pinfo  %pinfo2  %popd  %pprint  %precision  %profile  %prun  %psearch  %psource  %pushd  %pwd  %pycat  %pylab  %qtconsole  %quickref  %recall  %rehashx  %reload_ext  %rep  %rerun  %reset  %reset_selective  %rm  %rmdir  %run  %save  %sc  %set_env  %store  %sx  %system  %tb  %time  %timeit  %unalias  %unload_ext  %who  %who_ls  %whos  %xdel  %xmode\n",
       "\n",
       "Available cell magics:\n",
       "%%!  %%HTML  %%SVG  %%bash  %%capture  %%debug  %%file  %%html  %%javascript  %%latex  %%perl  %%prun  %%pypy  %%python  %%python2  %%python3  %%ruby  %%script  %%sh  %%svg  %%sx  %%system  %%time  %%timeit  %%writefile\n",
       "\n",
       "Automagic is ON, % prefix IS NOT needed for line magics."
      ]
     },
     "execution_count": 4,
     "metadata": {},
     "output_type": "execute_result"
    }
   ],
   "source": [
    "%lsmagic"
   ]
  },
  {
   "cell_type": "markdown",
   "metadata": {},
   "source": [
    "Sometimes it is necessary to measure the execution time of a code that can be used for magic **timeit**. This magic exists for cells and lines."
   ]
  },
  {
   "cell_type": "code",
   "execution_count": 5,
   "metadata": {
    "collapsed": false
   },
   "outputs": [
    {
     "name": "stdout",
     "output_type": "stream",
     "text": [
      "1000000 loops, best of 3: 736 ns per loop\n"
     ]
    }
   ],
   "source": [
    "%timeit range(0, 100)"
   ]
  },
  {
   "cell_type": "code",
   "execution_count": 6,
   "metadata": {
    "collapsed": false
   },
   "outputs": [
    {
     "ename": "SyntaxError",
     "evalue": "invalid syntax (<ipython-input-6-cf9a7a96c93c>, line 1)",
     "output_type": "error",
     "traceback": [
      "\u001b[1;36m  File \u001b[1;32m\"<ipython-input-6-cf9a7a96c93c>\"\u001b[1;36m, line \u001b[1;32m1\u001b[0m\n\u001b[1;33m    As already told IPython allows mixing python code with other languages like bash\u001b[0m\n\u001b[1;37m             ^\u001b[0m\n\u001b[1;31mSyntaxError\u001b[0m\u001b[1;31m:\u001b[0m invalid syntax\n"
     ]
    }
   ],
   "source": [
    "As already told IPython allows mixing python code with other languages like bash"
   ]
  },
  {
   "cell_type": "code",
   "execution_count": null,
   "metadata": {
    "collapsed": true
   },
   "outputs": [],
   "source": [
    "%%bash\n",
    "for i in {3..1}; do\n",
    "    echo $i\n",
    "done\n",
    "echo \"hello from $BASH\""
   ]
  },
  {
   "cell_type": "code",
   "execution_count": null,
   "metadata": {
    "collapsed": true
   },
   "outputs": [],
   "source": [
    "# Provides a quick reference to IPython\n",
    "%quickref"
   ]
  },
  {
   "cell_type": "markdown",
   "metadata": {},
   "source": [
    "#### Enhanced introspection\n",
    "\n",
    "If you need information about any command you could get it by adding a _?_ after the name of the command. If you need even more information, including acces to the source code you could try adding _??_. The commands could be from the Python standard library function, IPython magics, or commands from any imported library."
   ]
  },
  {
   "cell_type": "code",
   "execution_count": null,
   "metadata": {
    "collapsed": true
   },
   "outputs": [],
   "source": [
    "range?"
   ]
  },
  {
   "cell_type": "code",
   "execution_count": null,
   "metadata": {
    "collapsed": true
   },
   "outputs": [],
   "source": [
    "%timeit??"
   ]
  },
  {
   "cell_type": "code",
   "execution_count": null,
   "metadata": {
    "collapsed": true
   },
   "outputs": [],
   "source": [
    "?"
   ]
  },
  {
   "cell_type": "markdown",
   "metadata": {},
   "source": [
    "#### Support for rich media\n",
    "IPython use the web browser as a GUI, hence it can easily display images, videos, etc.\n",
    "\n",
    "One way to include media files in a notebook is to use pure HTML, another way is to use the IPython's rich display system as follows."
   ]
  },
  {
   "cell_type": "code",
   "execution_count": null,
   "metadata": {
    "collapsed": true
   },
   "outputs": [],
   "source": [
    "from IPython.display import Image, YouTubeVideo"
   ]
  },
  {
   "cell_type": "code",
   "execution_count": null,
   "metadata": {
    "collapsed": true
   },
   "outputs": [],
   "source": [
    "Image(filename='img/logo.png')"
   ]
  },
  {
   "cell_type": "code",
   "execution_count": null,
   "metadata": {
    "collapsed": true
   },
   "outputs": [],
   "source": [
    "YouTubeVideo('zJM4EBuL82o')"
   ]
  },
  {
   "cell_type": "markdown",
   "metadata": {},
   "source": [
    "## Introducción a Python\n",
    "\n",
    "Sintaxis Python lo que se debe hacer y lo que se sugiere hacer (PEP8)"
   ]
  },
  {
   "cell_type": "markdown",
   "metadata": {},
   "source": [
    "### Variables\n",
    "\n",
    "En programación se le llama variable a un espacio en la memoria de la computadora que almacena un valor determinado y que tiene asociado un nombre (o identificador). Es este indentificador el que nos permite referirnos a ese valor y manipularlo. Los nombres de las variables en Python pueden contener los caracteres _a-z_, _A-Z_, _0-9_ y algunos caracteres especiales como `_`. Los nombres de variables normales deben comenzar con una letra. Por convención, los nombres de las variables comienzan con una letra minúscula, mientras que los nombres de las _clases_ comienzan con una letra mayúscula (la explicación de que es una _clase_ quedará para más adelante)."
   ]
  },
  {
   "cell_type": "markdown",
   "metadata": {},
   "source": [
    "#### Asignaciones\n",
    "\n",
    "En Python el operador para asignar valores a variables es el signo _=_."
   ]
  },
  {
   "cell_type": "code",
   "execution_count": 2,
   "metadata": {
    "collapsed": false
   },
   "outputs": [
    {
     "data": {
      "text/plain": [
       "(2.0, 'hola')"
      ]
     },
     "execution_count": 2,
     "metadata": {},
     "output_type": "execute_result"
    }
   ],
   "source": [
    "x = 2.0\n",
    "y = 'hola'\n",
    "x, y"
   ]
  },
  {
   "cell_type": "markdown",
   "metadata": {},
   "source": [
    "Es importante destacar que en Python el signo _=_ no es equivalente al signo _igual_ en matemáticas. Esto se demuestra en el siguiente ejemplo."
   ]
  },
  {
   "cell_type": "code",
   "execution_count": 14,
   "metadata": {
    "collapsed": false
   },
   "outputs": [
    {
     "data": {
      "text/plain": [
       "3.0"
      ]
     },
     "execution_count": 14,
     "metadata": {},
     "output_type": "execute_result"
    }
   ],
   "source": [
    "x = x + 1\n",
    "x"
   ]
  },
  {
   "cell_type": "markdown",
   "metadata": {},
   "source": [
    "Si tratamos de usar una variable que no ha sido definida previamente obtendremos un mensaje de error"
   ]
  },
  {
   "cell_type": "code",
   "execution_count": 23,
   "metadata": {
    "collapsed": false
   },
   "outputs": [
    {
     "ename": "NameError",
     "evalue": "name 'z' is not defined",
     "output_type": "error",
     "traceback": [
      "\u001b[1;31m---------------------------------------------------------------------------\u001b[0m",
      "\u001b[1;31mNameError\u001b[0m                                 Traceback (most recent call last)",
      "\u001b[1;32m<ipython-input-23-a8a78d0ff555>\u001b[0m in \u001b[0;36m<module>\u001b[1;34m()\u001b[0m\n\u001b[1;32m----> 1\u001b[1;33m \u001b[0mz\u001b[0m\u001b[1;33m\u001b[0m\u001b[0m\n\u001b[0m",
      "\u001b[1;31mNameError\u001b[0m: name 'z' is not defined"
     ]
    }
   ],
   "source": [
    "z"
   ]
  },
  {
   "cell_type": "markdown",
   "metadata": {},
   "source": [
    "Los mensajes que entrega Python al producirse errores son muy útiles para poder correjirlos, por lo que es muy buena idea leerlos atentamente (al menos cuando uno no tiene demasiado interés en perder tiempo).  \n",
    "\n",
    "El proceso de correccion de errores de un programa se llama _debugging_ y es quizá la tarea que más tiempo demanda al programar. De hecho Python fue pensado como un lenguaje facil de leer debido a que uno pasa más tiempo leyendo código que escribiendolo!"
   ]
  },
  {
   "cell_type": "markdown",
   "metadata": {},
   "source": [
    "#### Nombres reservados\n",
    "\n",
    "Existen algunas palabras en Python que tienen un significado predefinido y no pueden ser usadas como nombres de variables. Estas palabras claves (_keywords_) son:\n",
    "\n",
    "    and, as, assert, break, class, continue, def, del, elif, else, except, \n",
    "    exec, finally, for, from, global, if, import, in, is, lambda, not, or,\n",
    "    pass, print, raise, return, try, while, with, yield"
   ]
  },
  {
   "cell_type": "markdown",
   "metadata": {},
   "source": [
    "#### Tipos de variables\n",
    "\n",
    "Python es un lenguage de escritura dinámica esto quiere decir que las variables no se declaran, simplemente se les asigna valores. La variable _x_ usada mas arriba no existía hasta que le asignamos un valor. Por el contrario, en muchos lenguajes de programación (como C/C++ o Fortran) antes de poder asignar valores a variables es necesario declararlas. Declararlas quiere decir que tenémos que indicar el _tipo_ de una variable.\n",
    "\n",
    "En nuestro ejemplo _x_ es una variable de tiplo _flotante_ (float) mientras que _y_ es una cadena (string)"
   ]
  },
  {
   "cell_type": "code",
   "execution_count": 15,
   "metadata": {
    "collapsed": false
   },
   "outputs": [
    {
     "data": {
      "text/plain": [
       "(float, str)"
      ]
     },
     "execution_count": 15,
     "metadata": {},
     "output_type": "execute_result"
    }
   ],
   "source": [
    "type(x), type(y)"
   ]
  },
  {
   "cell_type": "markdown",
   "metadata": {},
   "source": [
    "Al ser un lenguaje dinámico también es posible cambiar el tipo de una variable durante la ejecucion de un programa"
   ]
  },
  {
   "cell_type": "code",
   "execution_count": 20,
   "metadata": {
    "collapsed": false
   },
   "outputs": [
    {
     "data": {
      "text/plain": [
       "(42, int)"
      ]
     },
     "execution_count": 20,
     "metadata": {},
     "output_type": "execute_result"
    }
   ],
   "source": [
    "y = 42\n",
    "y, type(y)"
   ]
  },
  {
   "cell_type": "markdown",
   "metadata": {},
   "source": [
    "Existen muchos tipos de variables, algunos de los tipos más comunmente usados son:"
   ]
  },
  {
   "cell_type": "code",
   "execution_count": 20,
   "metadata": {
    "collapsed": false
   },
   "outputs": [
    {
     "data": {
      "text/plain": [
       "int"
      ]
     },
     "execution_count": 20,
     "metadata": {},
     "output_type": "execute_result"
    }
   ],
   "source": [
    "# enteros\n",
    "x = 1\n",
    "type(x)"
   ]
  },
  {
   "cell_type": "code",
   "execution_count": 21,
   "metadata": {
    "collapsed": false
   },
   "outputs": [
    {
     "data": {
      "text/plain": [
       "float"
      ]
     },
     "execution_count": 21,
     "metadata": {},
     "output_type": "execute_result"
    }
   ],
   "source": [
    "# flotantes\n",
    "y = 1.0\n",
    "type(x)"
   ]
  },
  {
   "cell_type": "code",
   "execution_count": 22,
   "metadata": {
    "collapsed": false
   },
   "outputs": [
    {
     "data": {
      "text/plain": [
       "bool"
      ]
     },
     "execution_count": 22,
     "metadata": {},
     "output_type": "execute_result"
    }
   ],
   "source": [
    "# booleanos\n",
    "b1 = True\n",
    "b2 = False\n",
    "\n",
    "type(b1)"
   ]
  },
  {
   "cell_type": "code",
   "execution_count": 24,
   "metadata": {
    "collapsed": false
   },
   "outputs": [
    {
     "data": {
      "text/plain": [
       "complex"
      ]
     },
     "execution_count": 24,
     "metadata": {},
     "output_type": "execute_result"
    }
   ],
   "source": [
    "# números complejos: note que se usa `j` para especificar la parte imaginaria\n",
    "z = 1.0j\n",
    "type(z)"
   ]
  },
  {
   "cell_type": "code",
   "execution_count": 25,
   "metadata": {
    "collapsed": false
   },
   "outputs": [
    {
     "data": {
      "text/plain": [
       "str"
      ]
     },
     "execution_count": 25,
     "metadata": {},
     "output_type": "execute_result"
    }
   ],
   "source": [
    "# cadenas\n",
    "s = '1'\n",
    "type(s)"
   ]
  },
  {
   "cell_type": "markdown",
   "metadata": {},
   "source": [
    "### Operadores\n",
    "\n",
    "#### Operadores matemáticos\n",
    "\n",
    "La mayoría de los operadores matemáticos en Python funcionan como uno esperaría:"
   ]
  },
  {
   "cell_type": "code",
   "execution_count": 28,
   "metadata": {
    "collapsed": false
   },
   "outputs": [
    {
     "data": {
      "text/plain": [
       "(3, -1, 2, 0, 4, 1.4142135623730951)"
      ]
     },
     "execution_count": 28,
     "metadata": {},
     "output_type": "execute_result"
    }
   ],
   "source": [
    "1 + 2, 1 - 2, 1 * 2, 1 / 2, 2**2, 2**0.5"
   ]
  },
  {
   "cell_type": "markdown",
   "metadata": {},
   "source": [
    "En el ejemplo anterior $\\frac{1}{2}$, devuelve 0 en vez de 0.5. Esto es así por que en Python la division de enteros devuelve enteros (en las versiones de python 2.x pero no para Python 3.x). Esto no es lo que se espera normalmente en computacion científica. Una forma de solucionarlo es asegurarse que al menos uno de los números sea decimal (float)."
   ]
  },
  {
   "cell_type": "code",
   "execution_count": 29,
   "metadata": {
    "collapsed": false
   },
   "outputs": [
    {
     "data": {
      "text/plain": [
       "0.5"
      ]
     },
     "execution_count": 29,
     "metadata": {},
     "output_type": "execute_result"
    }
   ],
   "source": [
    "1/2."
   ]
  },
  {
   "cell_type": "markdown",
   "metadata": {},
   "source": [
    "Otra solución (quizá la más simple para evitar que los errores puedan pasar inadvertidos) es invocar la siguiente expresión al inicio de todos nuestros programas."
   ]
  },
  {
   "cell_type": "code",
   "execution_count": 1,
   "metadata": {
    "collapsed": true
   },
   "outputs": [],
   "source": [
    "from __future__ import division"
   ]
  },
  {
   "cell_type": "code",
   "execution_count": 2,
   "metadata": {
    "collapsed": false
   },
   "outputs": [
    {
     "data": {
      "text/plain": [
       "0.5"
      ]
     },
     "execution_count": 2,
     "metadata": {},
     "output_type": "execute_result"
    }
   ],
   "source": [
    "1/2"
   ]
  },
  {
   "cell_type": "markdown",
   "metadata": {},
   "source": [
    "#### Operadores booleanos\n",
    "\n",
    "En el algebra Booleana, en vez de operar con valores numericos se opera con los valores _verdadero_ (True) y _falso_ (False). Los principales operadores son _and_, _or_ y _not_"
   ]
  },
  {
   "cell_type": "code",
   "execution_count": 32,
   "metadata": {
    "collapsed": false
   },
   "outputs": [
    {
     "data": {
      "text/plain": [
       "False"
      ]
     },
     "execution_count": 32,
     "metadata": {},
     "output_type": "execute_result"
    }
   ],
   "source": [
    "True and False"
   ]
  },
  {
   "cell_type": "code",
   "execution_count": 33,
   "metadata": {
    "collapsed": false
   },
   "outputs": [
    {
     "data": {
      "text/plain": [
       "True"
      ]
     },
     "execution_count": 33,
     "metadata": {},
     "output_type": "execute_result"
    }
   ],
   "source": [
    "not False"
   ]
  },
  {
   "cell_type": "code",
   "execution_count": 3,
   "metadata": {
    "collapsed": false
   },
   "outputs": [
    {
     "data": {
      "text/plain": [
       "True"
      ]
     },
     "execution_count": 3,
     "metadata": {},
     "output_type": "execute_result"
    }
   ],
   "source": [
    "True and not False"
   ]
  },
  {
   "cell_type": "code",
   "execution_count": 34,
   "metadata": {
    "collapsed": false
   },
   "outputs": [
    {
     "data": {
      "text/plain": [
       "True"
      ]
     },
     "execution_count": 34,
     "metadata": {},
     "output_type": "execute_result"
    }
   ],
   "source": [
    "True or False"
   ]
  },
  {
   "cell_type": "markdown",
   "metadata": {},
   "source": [
    "#### Operadores de comparación"
   ]
  },
  {
   "cell_type": "code",
   "execution_count": 4,
   "metadata": {
    "collapsed": false
   },
   "outputs": [
    {
     "data": {
      "text/plain": [
       "True"
      ]
     },
     "execution_count": 4,
     "metadata": {},
     "output_type": "execute_result"
    }
   ],
   "source": [
    "2 > 1 # mayor que"
   ]
  },
  {
   "cell_type": "code",
   "execution_count": 5,
   "metadata": {
    "collapsed": false
   },
   "outputs": [
    {
     "data": {
      "text/plain": [
       "False"
      ]
     },
     "execution_count": 5,
     "metadata": {},
     "output_type": "execute_result"
    }
   ],
   "source": [
    "2 < 2 # menor que"
   ]
  },
  {
   "cell_type": "code",
   "execution_count": 7,
   "metadata": {
    "collapsed": false
   },
   "outputs": [
    {
     "data": {
      "text/plain": [
       "True"
      ]
     },
     "execution_count": 7,
     "metadata": {},
     "output_type": "execute_result"
    }
   ],
   "source": [
    "3 >= 2 # mayor o igual que"
   ]
  },
  {
   "cell_type": "code",
   "execution_count": 8,
   "metadata": {
    "collapsed": false
   },
   "outputs": [
    {
     "data": {
      "text/plain": [
       "True"
      ]
     },
     "execution_count": 8,
     "metadata": {},
     "output_type": "execute_result"
    }
   ],
   "source": [
    "0 == 0 # igualdad"
   ]
  },
  {
   "cell_type": "code",
   "execution_count": 52,
   "metadata": {
    "collapsed": false
   },
   "outputs": [
    {
     "data": {
      "text/plain": [
       "True"
      ]
     },
     "execution_count": 52,
     "metadata": {},
     "output_type": "execute_result"
    }
   ],
   "source": [
    "42 != 7 # distinto de"
   ]
  },
  {
   "cell_type": "code",
   "execution_count": 20,
   "metadata": {
    "collapsed": false
   },
   "outputs": [
    {
     "data": {
      "text/plain": [
       "True"
      ]
     },
     "execution_count": 20,
     "metadata": {},
     "output_type": "execute_result"
    }
   ],
   "source": [
    "'z' > 'a' # comparación entre cadenas"
   ]
  },
  {
   "cell_type": "markdown",
   "metadata": {},
   "source": [
    "### Cadenas\n",
    "\n",
    "Como ya vimos una _cadena_ es un tipo de variable que almacena texto. Las cadenas deber definirse usando comillas dobles _\" \"_ o simples _' '_."
   ]
  },
  {
   "cell_type": "code",
   "execution_count": 85,
   "metadata": {
    "collapsed": false
   },
   "outputs": [
    {
     "data": {
      "text/plain": [
       "str"
      ]
     },
     "execution_count": 85,
     "metadata": {},
     "output_type": "execute_result"
    }
   ],
   "source": [
    "s = \"Hola mundo\"\n",
    "type(s)"
   ]
  },
  {
   "cell_type": "markdown",
   "metadata": {},
   "source": [
    "Es posible determinar la longitud de una cadena, es decir el número de caracteres que la componen."
   ]
  },
  {
   "cell_type": "code",
   "execution_count": 86,
   "metadata": {
    "collapsed": false
   },
   "outputs": [
    {
     "data": {
      "text/plain": [
       "10"
      ]
     },
     "execution_count": 86,
     "metadata": {},
     "output_type": "execute_result"
    }
   ],
   "source": [
    "len(s)"
   ]
  },
  {
   "cell_type": "markdown",
   "metadata": {},
   "source": [
    "Es posible tomar _rebanadas_ (_slices_) de una cadena. Por ejemplo, si queremos obtener el primer elemento de una cadena hacemos."
   ]
  },
  {
   "cell_type": "code",
   "execution_count": 87,
   "metadata": {
    "collapsed": false
   },
   "outputs": [
    {
     "data": {
      "text/plain": [
       "'H'"
      ]
     },
     "execution_count": 87,
     "metadata": {},
     "output_type": "execute_result"
    }
   ],
   "source": [
    "s[0]"
   ]
  },
  {
   "cell_type": "markdown",
   "metadata": {},
   "source": [
    "Es importante notar que Python comienza a indexar por el número _0_ y no por el número _1_. Si quisieramos obtener el último elemento de una cadena podemos hacer."
   ]
  },
  {
   "cell_type": "code",
   "execution_count": 88,
   "metadata": {
    "collapsed": false
   },
   "outputs": [
    {
     "data": {
      "text/plain": [
       "'o'"
      ]
     },
     "execution_count": 88,
     "metadata": {},
     "output_type": "execute_result"
    }
   ],
   "source": [
    "s[-1]"
   ]
  },
  {
   "cell_type": "markdown",
   "metadata": {},
   "source": [
    "Además es posible obtener rangos, mediante la sintaxis, _[desde:hasta]_"
   ]
  },
  {
   "cell_type": "code",
   "execution_count": 89,
   "metadata": {
    "collapsed": false
   },
   "outputs": [
    {
     "data": {
      "text/plain": [
       "'Hola'"
      ]
     },
     "execution_count": 89,
     "metadata": {},
     "output_type": "execute_result"
    }
   ],
   "source": [
    "s[0:4]"
   ]
  },
  {
   "cell_type": "code",
   "execution_count": 90,
   "metadata": {
    "collapsed": false
   },
   "outputs": [
    {
     "data": {
      "text/plain": [
       "'mundo'"
      ]
     },
     "execution_count": 90,
     "metadata": {},
     "output_type": "execute_result"
    }
   ],
   "source": [
    "s[5:10]"
   ]
  },
  {
   "cell_type": "markdown",
   "metadata": {},
   "source": [
    "Es posible omitir el _desde_, Python asumirá que es desde el principio. De la misma forma es posible omitir el _hasta_, Python asumirá que es hasta el final."
   ]
  },
  {
   "cell_type": "code",
   "execution_count": 91,
   "metadata": {
    "collapsed": false
   },
   "outputs": [
    {
     "data": {
      "text/plain": [
       "'Hola'"
      ]
     },
     "execution_count": 91,
     "metadata": {},
     "output_type": "execute_result"
    }
   ],
   "source": [
    "s[:4]"
   ]
  },
  {
   "cell_type": "code",
   "execution_count": 92,
   "metadata": {
    "collapsed": false
   },
   "outputs": [
    {
     "data": {
      "text/plain": [
       "'mundo'"
      ]
     },
     "execution_count": 92,
     "metadata": {},
     "output_type": "execute_result"
    }
   ],
   "source": [
    "s[5:]"
   ]
  },
  {
   "cell_type": "code",
   "execution_count": 93,
   "metadata": {
    "collapsed": false
   },
   "outputs": [
    {
     "data": {
      "text/plain": [
       "'Hola mundo'"
      ]
     },
     "execution_count": 93,
     "metadata": {},
     "output_type": "execute_result"
    }
   ],
   "source": [
    "s[:]"
   ]
  },
  {
   "cell_type": "markdown",
   "metadata": {},
   "source": [
    "Además es posible definir el _paso_ de las rebanadas (slices), usando la sintaxis  _[desde:hasta:paso]_"
   ]
  },
  {
   "cell_type": "code",
   "execution_count": 75,
   "metadata": {
    "collapsed": false
   },
   "outputs": [
    {
     "data": {
      "text/plain": [
       "'hola mundo'"
      ]
     },
     "execution_count": 75,
     "metadata": {},
     "output_type": "execute_result"
    }
   ],
   "source": [
    "s[::1]"
   ]
  },
  {
   "cell_type": "code",
   "execution_count": 76,
   "metadata": {
    "collapsed": false
   },
   "outputs": [
    {
     "data": {
      "text/plain": [
       "'hauo'"
      ]
     },
     "execution_count": 76,
     "metadata": {},
     "output_type": "execute_result"
    }
   ],
   "source": [
    "s[::3]"
   ]
  },
  {
   "cell_type": "markdown",
   "metadata": {},
   "source": [
    "En Python es posible sumar cadenas."
   ]
  },
  {
   "cell_type": "code",
   "execution_count": 77,
   "metadata": {
    "collapsed": false
   },
   "outputs": [
    {
     "data": {
      "text/plain": [
       "'hola mundo!'"
      ]
     },
     "execution_count": 77,
     "metadata": {},
     "output_type": "execute_result"
    }
   ],
   "source": [
    "r = '!'\n",
    "s + r "
   ]
  },
  {
   "cell_type": "markdown",
   "metadata": {},
   "source": [
    "y multiplicar cadenas (pero solo de longitud 1)."
   ]
  },
  {
   "cell_type": "code",
   "execution_count": 78,
   "metadata": {
    "collapsed": false
   },
   "outputs": [
    {
     "data": {
      "text/plain": [
       "'hola mundo!!!'"
      ]
     },
     "execution_count": 78,
     "metadata": {},
     "output_type": "execute_result"
    }
   ],
   "source": [
    "s + r*3"
   ]
  },
  {
   "cell_type": "markdown",
   "metadata": {},
   "source": [
    "Existen muchas funciones que pueden aplicarse a cadenas, como por ej"
   ]
  },
  {
   "cell_type": "code",
   "execution_count": 94,
   "metadata": {
    "collapsed": false
   },
   "outputs": [
    {
     "data": {
      "text/plain": [
       "'HOLA MUNDO'"
      ]
     },
     "execution_count": 94,
     "metadata": {},
     "output_type": "execute_result"
    }
   ],
   "source": [
    "s.upper()"
   ]
  },
  {
   "cell_type": "code",
   "execution_count": 95,
   "metadata": {
    "collapsed": false
   },
   "outputs": [
    {
     "data": {
      "text/plain": [
       "2"
      ]
     },
     "execution_count": 95,
     "metadata": {},
     "output_type": "execute_result"
    }
   ],
   "source": [
    "s.count('o')"
   ]
  },
  {
   "cell_type": "code",
   "execution_count": 100,
   "metadata": {
    "collapsed": false
   },
   "outputs": [
    {
     "data": {
      "text/plain": [
       "3"
      ]
     },
     "execution_count": 100,
     "metadata": {},
     "output_type": "execute_result"
    }
   ],
   "source": [
    "s.index('a')"
   ]
  },
  {
   "cell_type": "markdown",
   "metadata": {},
   "source": [
    "Podés explorar otras funciones aplicables a cadenas usando la sugerencias que ofrece Jupyter al presionar _tab_."
   ]
  },
  {
   "cell_type": "code",
   "execution_count": null,
   "metadata": {
    "collapsed": false
   },
   "outputs": [],
   "source": []
  },
  {
   "cell_type": "markdown",
   "metadata": {},
   "source": [
    "#### Formateado de cadenas\n",
    "En muchas ocasiones es necesario dar algun formato específico a cadenas, por ej al imprimir resultados en pantalla o guardar datos en un archivo. Algunos de los casos más usados son:"
   ]
  },
  {
   "cell_type": "code",
   "execution_count": 105,
   "metadata": {
    "collapsed": false
   },
   "outputs": [
    {
     "data": {
      "text/plain": [
       "'valor = 42.000 unidades'"
      ]
     },
     "execution_count": 105,
     "metadata": {},
     "output_type": "execute_result"
    }
   ],
   "source": [
    "\"valor = %.3f unidades\" % 42.0"
   ]
  },
  {
   "cell_type": "code",
   "execution_count": 60,
   "metadata": {
    "collapsed": false
   },
   "outputs": [
    {
     "data": {
      "text/plain": [
       "'3.142, 042, abc'"
      ]
     },
     "execution_count": 60,
     "metadata": {},
     "output_type": "execute_result"
    }
   ],
   "source": [
    "\"%.3f, %03d, %s\" % (3.1415, 42, 'abc')"
   ]
  },
  {
   "cell_type": "markdown",
   "metadata": {},
   "source": [
    "### Listas\n",
    "\n",
    "Las listas y las cadenas comparten varias caracteristicas, como la posibilidad de indexarlas y de tomar rebanadas. La principal diferencia es que las listas pueden contener elementos de distintos tipos, como enteros, cadenas e incluso otras listas.\n",
    "\n",
    "Las listas son muy usada en Python y gran parte de la programación en Python implica crear y manipular listas.\n",
    "\n",
    "La sintaxis para crear listas en Python es _[..., ..., ...]_:"
   ]
  },
  {
   "cell_type": "code",
   "execution_count": 54,
   "metadata": {
    "collapsed": false
   },
   "outputs": [
    {
     "data": {
      "text/plain": [
       "[]"
      ]
     },
     "execution_count": 54,
     "metadata": {},
     "output_type": "execute_result"
    }
   ],
   "source": [
    "lista = [] # crea una lista vacia\n",
    "lista"
   ]
  },
  {
   "cell_type": "code",
   "execution_count": 55,
   "metadata": {
    "collapsed": false
   },
   "outputs": [
    {
     "data": {
      "text/plain": [
       "([1, 2, 3, 4], list)"
      ]
     },
     "execution_count": 55,
     "metadata": {},
     "output_type": "execute_result"
    }
   ],
   "source": [
    "lista = [1, 2, 3, 4]\n",
    "lista, type(lista)"
   ]
  },
  {
   "cell_type": "code",
   "execution_count": 33,
   "metadata": {
    "collapsed": false
   },
   "outputs": [
    {
     "data": {
      "text/plain": [
       "[1, 3, 5, 7, 9]"
      ]
     },
     "execution_count": 33,
     "metadata": {},
     "output_type": "execute_result"
    }
   ],
   "source": [
    "lista_r = range(1, 10, 2)\n",
    "lista_r"
   ]
  },
  {
   "cell_type": "markdown",
   "metadata": {},
   "source": [
    "Podemos usar las mismas técnicas de \"rebanado\" que usamos en el caso de cadenas para acceder a los elementos almacenados en las listas:"
   ]
  },
  {
   "cell_type": "code",
   "execution_count": 2,
   "metadata": {
    "collapsed": false
   },
   "outputs": [
    {
     "data": {
      "text/plain": [
       "3"
      ]
     },
     "execution_count": 2,
     "metadata": {},
     "output_type": "execute_result"
    }
   ],
   "source": [
    "lista[2]"
   ]
  },
  {
   "cell_type": "code",
   "execution_count": 109,
   "metadata": {
    "collapsed": false
   },
   "outputs": [
    {
     "data": {
      "text/plain": [
       "[2, 3, 4]"
      ]
     },
     "execution_count": 109,
     "metadata": {},
     "output_type": "execute_result"
    }
   ],
   "source": [
    "lista[1:]"
   ]
  },
  {
   "cell_type": "code",
   "execution_count": 108,
   "metadata": {
    "collapsed": false
   },
   "outputs": [
    {
     "data": {
      "text/plain": [
       "[1, 3]"
      ]
     },
     "execution_count": 108,
     "metadata": {},
     "output_type": "execute_result"
    }
   ],
   "source": [
    "lista[::2]"
   ]
  },
  {
   "cell_type": "markdown",
   "metadata": {},
   "source": [
    "Como se dijo anterioremente, no es requisito que los elementos en una lista sean del mismo tipo."
   ]
  },
  {
   "cell_type": "code",
   "execution_count": 7,
   "metadata": {
    "collapsed": false
   },
   "outputs": [
    {
     "data": {
      "text/plain": [
       "[1, 'a', 1.0, [42, 7]]"
      ]
     },
     "execution_count": 7,
     "metadata": {},
     "output_type": "execute_result"
    }
   ],
   "source": [
    "lista_h = [1, 'a', 1.0, [42, 7]]\n",
    "lista_h"
   ]
  },
  {
   "cell_type": "markdown",
   "metadata": {},
   "source": [
    "Las listas como la anterior son llamadas anidadas por que contienen una lista adentro. Otro ejemplo de lista anidada podría ser."
   ]
  },
  {
   "cell_type": "code",
   "execution_count": 8,
   "metadata": {
    "collapsed": false
   },
   "outputs": [
    {
     "data": {
      "text/plain": [
       "[[0, 1], [2, 3]]"
      ]
     },
     "execution_count": 8,
     "metadata": {},
     "output_type": "execute_result"
    }
   ],
   "source": [
    "m = [[0, 1], [2, 3]]\n",
    "m"
   ]
  },
  {
   "cell_type": "markdown",
   "metadata": {},
   "source": [
    "Dado que la lista _m_ es una lista de listas es necesario usar dos indices para acceder a cada entero almacenado en _m_. Veamos.\n"
   ]
  },
  {
   "cell_type": "code",
   "execution_count": 9,
   "metadata": {
    "collapsed": false
   },
   "outputs": [
    {
     "data": {
      "text/plain": [
       "[2, 3]"
      ]
     },
     "execution_count": 9,
     "metadata": {},
     "output_type": "execute_result"
    }
   ],
   "source": [
    "m[1] # el segundo elemento de la lista m es otra lista."
   ]
  },
  {
   "cell_type": "code",
   "execution_count": 10,
   "metadata": {
    "collapsed": false
   },
   "outputs": [
    {
     "data": {
      "text/plain": [
       "2"
      ]
     },
     "execution_count": 10,
     "metadata": {},
     "output_type": "execute_result"
    }
   ],
   "source": [
    "m[1][0]"
   ]
  },
  {
   "cell_type": "markdown",
   "metadata": {},
   "source": [
    "#### Métodos de las listas\n",
    "\n",
    "Python provee de varios métodos que permiten operar sobre listas como el método _append_ que permite agregar un elemento al final de una lista."
   ]
  },
  {
   "cell_type": "code",
   "execution_count": 56,
   "metadata": {
    "collapsed": false
   },
   "outputs": [
    {
     "data": {
      "text/plain": [
       "[]"
      ]
     },
     "execution_count": 56,
     "metadata": {},
     "output_type": "execute_result"
    }
   ],
   "source": [
    "l = [] # crea una lista vacía\n",
    "l"
   ]
  },
  {
   "cell_type": "code",
   "execution_count": 57,
   "metadata": {
    "collapsed": false
   },
   "outputs": [],
   "source": [
    "l.append(10)\n",
    "l.append(9)\n",
    "l.append(8)"
   ]
  },
  {
   "cell_type": "code",
   "execution_count": 58,
   "metadata": {
    "collapsed": false
   },
   "outputs": [
    {
     "data": {
      "text/plain": [
       "[10, 9, 8]"
      ]
     },
     "execution_count": 58,
     "metadata": {},
     "output_type": "execute_result"
    }
   ],
   "source": [
    "l"
   ]
  },
  {
   "cell_type": "markdown",
   "metadata": {},
   "source": [
    "O el método _extend_ que permite agregar los elementos de una lista al final de otra lista"
   ]
  },
  {
   "cell_type": "code",
   "execution_count": 59,
   "metadata": {
    "collapsed": false
   },
   "outputs": [
    {
     "data": {
      "text/plain": [
       "[1, 2, 3, 4, 10, 9, 8]"
      ]
     },
     "execution_count": 59,
     "metadata": {},
     "output_type": "execute_result"
    }
   ],
   "source": [
    "lista.extend(l)\n",
    "lista"
   ]
  },
  {
   "cell_type": "markdown",
   "metadata": {},
   "source": [
    "También podemos encontrar el método _sort_ que ordena los elementos de una lista."
   ]
  },
  {
   "cell_type": "code",
   "execution_count": 60,
   "metadata": {
    "collapsed": false
   },
   "outputs": [
    {
     "data": {
      "text/plain": [
       "[1, 2, 3, 4, 8, 9, 10]"
      ]
     },
     "execution_count": 60,
     "metadata": {},
     "output_type": "execute_result"
    }
   ],
   "source": [
    "lista.sort()\n",
    "lista"
   ]
  },
  {
   "cell_type": "markdown",
   "metadata": {},
   "source": [
    "Otro método comunmente usado es _pop_ que devuelve un valor de una lista y lo elimina. Si no se usa ningún argumento, por defecto devolverá el último valor de la lista."
   ]
  },
  {
   "cell_type": "code",
   "execution_count": 61,
   "metadata": {
    "collapsed": false
   },
   "outputs": [
    {
     "data": {
      "text/plain": [
       "10"
      ]
     },
     "execution_count": 61,
     "metadata": {},
     "output_type": "execute_result"
    }
   ],
   "source": [
    "lista.pop()"
   ]
  },
  {
   "cell_type": "code",
   "execution_count": 62,
   "metadata": {
    "collapsed": false
   },
   "outputs": [
    {
     "data": {
      "text/plain": [
       "[1, 2, 3, 4, 8, 9]"
      ]
     },
     "execution_count": 62,
     "metadata": {},
     "output_type": "execute_result"
    }
   ],
   "source": [
    "lista # ahora lista no contiene el elemento 10"
   ]
  },
  {
   "cell_type": "markdown",
   "metadata": {},
   "source": [
    "Algo similar al método _pop_ es el comando _del_"
   ]
  },
  {
   "cell_type": "code",
   "execution_count": 64,
   "metadata": {
    "collapsed": false
   },
   "outputs": [
    {
     "data": {
      "text/plain": [
       "[1, 2, 3, 4, 9]"
      ]
     },
     "execution_count": 64,
     "metadata": {},
     "output_type": "execute_result"
    }
   ],
   "source": [
    "del lista[4]\n",
    "lista # el elemento con indice 4, es decir, el número 8 ya no está en la lista"
   ]
  },
  {
   "cell_type": "markdown",
   "metadata": {},
   "source": [
    "También es posible eliminar elementos, indicando el elemento que se desea borrar y no el índice."
   ]
  },
  {
   "cell_type": "code",
   "execution_count": 65,
   "metadata": {
    "collapsed": false
   },
   "outputs": [
    {
     "data": {
      "text/plain": [
       "[1, 2, 3, 9]"
      ]
     },
     "execution_count": 65,
     "metadata": {},
     "output_type": "execute_result"
    }
   ],
   "source": [
    "lista.remove(4) # se borró el número 4\n",
    "lista"
   ]
  },
  {
   "cell_type": "markdown",
   "metadata": {},
   "source": [
    "### Tuplas\n",
    "\n",
    "Las tuplas son como las listas, pero son inmutables, es decir una vez creadas no pueden ser modificadas\n",
    "\n",
    "En Python, las tuplas son creadas usando la sintaxis _(..., ..., ...)_ o _...,...,..._"
   ]
  },
  {
   "cell_type": "code",
   "execution_count": 66,
   "metadata": {
    "collapsed": false
   },
   "outputs": [
    {
     "data": {
      "text/plain": [
       "((10, 20), tuple)"
      ]
     },
     "execution_count": 66,
     "metadata": {},
     "output_type": "execute_result"
    }
   ],
   "source": [
    "tupla = (10, 20)\n",
    "tupla, type(tupla)"
   ]
  },
  {
   "cell_type": "code",
   "execution_count": 71,
   "metadata": {
    "collapsed": false
   },
   "outputs": [
    {
     "data": {
      "text/plain": [
       "((10, 20), tuple)"
      ]
     },
     "execution_count": 71,
     "metadata": {},
     "output_type": "execute_result"
    }
   ],
   "source": [
    "tupla = 10, 20\n",
    "tupla, type(tupla)"
   ]
  },
  {
   "cell_type": "markdown",
   "metadata": {},
   "source": [
    "Es posible usar una tupla para asignar más de una variable al mismo tiempo."
   ]
  },
  {
   "cell_type": "code",
   "execution_count": 67,
   "metadata": {
    "collapsed": false
   },
   "outputs": [
    {
     "data": {
      "text/plain": [
       "(10, 20)"
      ]
     },
     "execution_count": 67,
     "metadata": {},
     "output_type": "execute_result"
    }
   ],
   "source": [
    "x, y = tupla\n",
    "x, y"
   ]
  },
  {
   "cell_type": "markdown",
   "metadata": {},
   "source": [
    "Si intentamos asignar un nuevo valor a un elemento de una tupla obtenemos un error:"
   ]
  },
  {
   "cell_type": "code",
   "execution_count": 68,
   "metadata": {
    "collapsed": false
   },
   "outputs": [
    {
     "ename": "TypeError",
     "evalue": "'tuple' object does not support item assignment",
     "output_type": "error",
     "traceback": [
      "\u001b[1;31m---------------------------------------------------------------------------\u001b[0m",
      "\u001b[1;31mTypeError\u001b[0m                                 Traceback (most recent call last)",
      "\u001b[1;32m<ipython-input-68-7e589e23190f>\u001b[0m in \u001b[0;36m<module>\u001b[1;34m()\u001b[0m\n\u001b[1;32m----> 1\u001b[1;33m \u001b[0mtupla\u001b[0m\u001b[1;33m[\u001b[0m\u001b[1;36m0\u001b[0m\u001b[1;33m]\u001b[0m \u001b[1;33m=\u001b[0m \u001b[1;36m42\u001b[0m\u001b[1;33m\u001b[0m\u001b[0m\n\u001b[0m",
      "\u001b[1;31mTypeError\u001b[0m: 'tuple' object does not support item assignment"
     ]
    }
   ],
   "source": [
    "tupla[0] = 42"
   ]
  },
  {
   "cell_type": "code",
   "execution_count": 70,
   "metadata": {
    "collapsed": false
   },
   "outputs": [
    {
     "data": {
      "text/plain": [
       "tuple"
      ]
     },
     "execution_count": 70,
     "metadata": {},
     "output_type": "execute_result"
    }
   ],
   "source": [
    "a = ()\n",
    "type(a)"
   ]
  },
  {
   "cell_type": "markdown",
   "metadata": {},
   "source": [
    "Aveces suele ser necesario, intercambiar los valores de dos variables. Usando la asignaciçon convencional se requiere de una variable temporaria."
   ]
  },
  {
   "cell_type": "code",
   "execution_count": 74,
   "metadata": {
    "collapsed": false
   },
   "outputs": [
    {
     "data": {
      "text/plain": [
       "(2, 1)"
      ]
     },
     "execution_count": 74,
     "metadata": {},
     "output_type": "execute_result"
    }
   ],
   "source": [
    "a, b = 1, 2\n",
    "temp = a\n",
    "a = b\n",
    "b = temp\n",
    "\n",
    "a, b"
   ]
  },
  {
   "cell_type": "markdown",
   "metadata": {},
   "source": [
    "Una version más simple es usar tuplas"
   ]
  },
  {
   "cell_type": "code",
   "execution_count": 76,
   "metadata": {
    "collapsed": false
   },
   "outputs": [
    {
     "data": {
      "text/plain": [
       "(2, 1)"
      ]
     },
     "execution_count": 76,
     "metadata": {},
     "output_type": "execute_result"
    }
   ],
   "source": [
    "a, b = 1, 2\n",
    "a, b = b, a\n",
    "a, b"
   ]
  },
  {
   "cell_type": "markdown",
   "metadata": {},
   "source": [
    "El número de variables a la izquierda debe coincidir con el número de valores a la derecha."
   ]
  },
  {
   "cell_type": "code",
   "execution_count": 77,
   "metadata": {
    "collapsed": false
   },
   "outputs": [
    {
     "ename": "ValueError",
     "evalue": "too many values to unpack",
     "output_type": "error",
     "traceback": [
      "\u001b[1;31m---------------------------------------------------------------------------\u001b[0m",
      "\u001b[1;31mValueError\u001b[0m                                Traceback (most recent call last)",
      "\u001b[1;32m<ipython-input-77-f840016b8414>\u001b[0m in \u001b[0;36m<module>\u001b[1;34m()\u001b[0m\n\u001b[1;32m----> 1\u001b[1;33m \u001b[0ma\u001b[0m\u001b[1;33m,\u001b[0m \u001b[0mb\u001b[0m \u001b[1;33m=\u001b[0m \u001b[1;36m1\u001b[0m\u001b[1;33m,\u001b[0m \u001b[1;36m2\u001b[0m\u001b[1;33m,\u001b[0m \u001b[1;36m3\u001b[0m\u001b[1;33m\u001b[0m\u001b[0m\n\u001b[0m",
      "\u001b[1;31mValueError\u001b[0m: too many values to unpack"
     ]
    }
   ],
   "source": [
    "a, b = 1, 2, 3"
   ]
  },
  {
   "cell_type": "markdown",
   "metadata": {},
   "source": [
    "Dado que las tuplas y las listas son tan parecidas es común que surga la pregunta ¿Cuando es conveniente usar una y cuando la otra?\n",
    "\n",
    "Al ser las tuplas inmutables, son más eficientes (en términos de memoria y procesador) que la listas. Por lo que si algún problema puede resolverse tanto con listas como por tuplas, entonces las tuplas se prefieren si la eficiencia es importante.\n",
    "\n",
    "Una diferencia que puede resultar algo más sutil es la siguiente. Si bien las listas pueden contener elementos de distinto tipo (heterogéneas) su uso más común es cuando todos los elementos son del mismo tipo (homogéneas). Por otro lado es más comun que las tuplas sean heterogéneas. En general en un tupla las posiciones tienen significado, mientras que las listas no. Por ejemplo para representar un gas de partículas podríamos usar una lista de tuplas, la longitud de la lista sería equivalente a la cantidad de partículas de gas y usariamos una tupla de tres elementos (por cada partícula) para indicar las coordenadas x, y, z. En este ejemplo se puede ver que dado que las partículas son indistinguibles entre si, el ordenamiento de los elementos de la lista es arbitrario mientras que en la tupla, las posiciones tienen un significado algo más preciso. Otro ejemplo sería usar una lista de tuplas para guardar los nombres de nuestros contactos (una tupla por contacto), donde el primer elemento de la tupla sería el nombre y el segundo el apellido."
   ]
  },
  {
   "cell_type": "markdown",
   "metadata": {},
   "source": [
    "### Diccionarios\n",
    "\n",
    "Los diccionarios son parecidos a las listas y a las tuplas, excepto que cada elemento es un par clave-valor y que los elementos de un diccionario no están ordenados. Es por ello que en vez de usar índices accedemos a un diccionario usando _claves_.\n",
    "\n",
    "La sintaxsis de los diccionarios es `{clave1 : valor1, clave2 : valor2, ...}`:"
   ]
  },
  {
   "cell_type": "code",
   "execution_count": 91,
   "metadata": {
    "collapsed": false
   },
   "outputs": [
    {
     "data": {
      "text/plain": [
       "({'parametro1': 1.0, 'parametro2': 2.0, 'parametro3': 3.0}, dict)"
      ]
     },
     "execution_count": 91,
     "metadata": {},
     "output_type": "execute_result"
    }
   ],
   "source": [
    "parametros = {\"parametro1\" : 1.0,\n",
    "          \"parametro2\" : 2.0,\n",
    "          \"parametro3\" : 3.0,}\n",
    "\n",
    "parametros, type(parametros)"
   ]
  },
  {
   "cell_type": "code",
   "execution_count": 92,
   "metadata": {
    "collapsed": false
   },
   "outputs": [
    {
     "data": {
      "text/plain": [
       "2.0"
      ]
     },
     "execution_count": 92,
     "metadata": {},
     "output_type": "execute_result"
    }
   ],
   "source": [
    "parametros[\"parametro2\"]"
   ]
  },
  {
   "cell_type": "markdown",
   "metadata": {},
   "source": [
    "Si necesitamos agregar una nueva entrada basta con"
   ]
  },
  {
   "cell_type": "code",
   "execution_count": 90,
   "metadata": {
    "collapsed": false
   },
   "outputs": [
    {
     "data": {
      "text/plain": [
       "{'parametro1': 1.0, 'parametro2': 2.0, 'parametro3': 3.0, 'parametro4': 'D'}"
      ]
     },
     "execution_count": 90,
     "metadata": {},
     "output_type": "execute_result"
    }
   ],
   "source": [
    "parametros[\"parametro4\"] = \"D\"\n",
    "parametros"
   ]
  },
  {
   "cell_type": "markdown",
   "metadata": {},
   "source": [
    "### Conjuntos\n",
    "\n",
    "Los conjuntos (_sets_) en Python están inspirados en los conjuntos matemáticos y proveen de una estructura de datos para almacenar un conjunto no-ordenado de elementos no-repetidos."
   ]
  },
  {
   "cell_type": "code",
   "execution_count": 43,
   "metadata": {
    "collapsed": false
   },
   "outputs": [
    {
     "data": {
      "text/plain": [
       "{4, 5, 7, 8}"
      ]
     },
     "execution_count": 43,
     "metadata": {},
     "output_type": "execute_result"
    }
   ],
   "source": [
    "mi_set = {4, 5, 5, 7, 8}\n",
    "mi_set"
   ]
  },
  {
   "cell_type": "markdown",
   "metadata": {},
   "source": [
    "también es posible definir un set de la siguiente forma:"
   ]
  },
  {
   "cell_type": "code",
   "execution_count": 46,
   "metadata": {
    "collapsed": false
   },
   "outputs": [
    {
     "data": {
      "text/plain": [
       "set()"
      ]
     },
     "execution_count": 46,
     "metadata": {},
     "output_type": "execute_result"
    }
   ],
   "source": [
    "set_0 = set()\n",
    "set_0"
   ]
  },
  {
   "cell_type": "code",
   "execution_count": 47,
   "metadata": {
    "collapsed": false
   },
   "outputs": [
    {
     "data": {
      "text/plain": [
       "{-5}"
      ]
     },
     "execution_count": 47,
     "metadata": {},
     "output_type": "execute_result"
    }
   ],
   "source": [
    "set_0.add(-5)\n",
    "set_0"
   ]
  },
  {
   "cell_type": "markdown",
   "metadata": {},
   "source": [
    "Con los _sets_ de Python es posible realizar operaciones de conjuntos (como en matemática)"
   ]
  },
  {
   "cell_type": "code",
   "execution_count": 48,
   "metadata": {
    "collapsed": false
   },
   "outputs": [
    {
     "data": {
      "text/plain": [
       "{-5, 4, 5, 7, 8}"
      ]
     },
     "execution_count": 48,
     "metadata": {},
     "output_type": "execute_result"
    }
   ],
   "source": [
    "mi_set | set_0 # unión de conjuntos"
   ]
  },
  {
   "cell_type": "code",
   "execution_count": 49,
   "metadata": {
    "collapsed": false
   },
   "outputs": [
    {
     "data": {
      "text/plain": [
       "set()"
      ]
     },
     "execution_count": 49,
     "metadata": {},
     "output_type": "execute_result"
    }
   ],
   "source": [
    "mi_set & set_0 # intersección"
   ]
  },
  {
   "cell_type": "code",
   "execution_count": 51,
   "metadata": {
    "collapsed": false
   },
   "outputs": [
    {
     "data": {
      "text/plain": [
       "{5, 7, 8}"
      ]
     },
     "execution_count": 51,
     "metadata": {},
     "output_type": "execute_result"
    }
   ],
   "source": [
    "mi_set - {4} # diferencia entre conjuntos"
   ]
  },
  {
   "cell_type": "markdown",
   "metadata": {},
   "source": [
    "Un uso común en Python, para los sets, es el de obtener elementos únicos a partir de una lista"
   ]
  },
  {
   "cell_type": "code",
   "execution_count": 52,
   "metadata": {
    "collapsed": false
   },
   "outputs": [
    {
     "data": {
      "text/plain": [
       "{1, 2, 3, 4, 5}"
      ]
     },
     "execution_count": 52,
     "metadata": {},
     "output_type": "execute_result"
    }
   ],
   "source": [
    "lista = [1, 2, 3, 3, 4, 5, 5 ,5]\n",
    "set(lista)"
   ]
  },
  {
   "cell_type": "markdown",
   "metadata": {},
   "source": [
    "### Bucles\n",
    "\n",
    "Gran parte de la programación involucra poder iterar sobre una secuencia, por ejemplo leer un texto de a una linea por vez, operar sobre cada elemento de una lista o repetir una misma tarea una cierta cantidad de veces. Una forma de hacer eso es usando el bucle for (_for loop_)."
   ]
  },
  {
   "cell_type": "code",
   "execution_count": 121,
   "metadata": {
    "collapsed": false
   },
   "outputs": [
    {
     "name": "stdout",
     "output_type": "stream",
     "text": [
      "0\n",
      "1\n",
      "2\n"
     ]
    }
   ],
   "source": [
    "for i in [0, 1, 2]:\n",
    "    print(i)"
   ]
  },
  {
   "cell_type": "code",
   "execution_count": 122,
   "metadata": {
    "collapsed": false
   },
   "outputs": [
    {
     "name": "stdout",
     "output_type": "stream",
     "text": [
      "0\n",
      "1\n",
      "2\n"
     ]
    }
   ],
   "source": [
    "for i in range(3):\n",
    "    print(i)"
   ]
  },
  {
   "cell_type": "code",
   "execution_count": 124,
   "metadata": {
    "collapsed": false
   },
   "outputs": [
    {
     "name": "stdout",
     "output_type": "stream",
     "text": [
      "h\n",
      "o\n",
      "l\n",
      "a\n",
      " \n",
      "m\n",
      "u\n",
      "n\n",
      "d\n",
      "o\n"
     ]
    }
   ],
   "source": [
    "for caracter in 'hola mundo':\n",
    "    print(caracter)"
   ]
  },
  {
   "cell_type": "markdown",
   "metadata": {},
   "source": [
    "También es posible iterar sobre los valores de un diccionario, para ello se aplica el método _items_ a un diccionario."
   ]
  },
  {
   "cell_type": "code",
   "execution_count": 109,
   "metadata": {
    "collapsed": false
   },
   "outputs": [
    {
     "name": "stdout",
     "output_type": "stream",
     "text": [
      "parametro1 = 1.0\n",
      "parametro3 = 3.0\n",
      "parametro2 = 2.0\n"
     ]
    }
   ],
   "source": [
    "for clave, valor in parametros.items():\n",
    "    print(clave + \" = \" + str(valor))"
   ]
  },
  {
   "cell_type": "markdown",
   "metadata": {},
   "source": [
    "Algunas veces es útil iterar sobre una lista y obtener los índices y los valores de una lista en simultaneo. Para ello se usa la función _enumerate_:"
   ]
  },
  {
   "cell_type": "code",
   "execution_count": 110,
   "metadata": {
    "collapsed": false
   },
   "outputs": [
    {
     "name": "stdout",
     "output_type": "stream",
     "text": [
      "(0, -3)\n",
      "(1, -2)\n",
      "(2, -1)\n",
      "(3, 0)\n",
      "(4, 1)\n",
      "(5, 2)\n"
     ]
    }
   ],
   "source": [
    "for idx, x in enumerate(range(-3, 3)):\n",
    "    print(idx, x)"
   ]
  },
  {
   "cell_type": "markdown",
   "metadata": {},
   "source": [
    "En muchos casos se hace necesario iterar sobre un par de listas en simultaneo. La forma preferida es usando _zip_. La funcion zip toma dos (o más) secuencias (lista, tuplas, etc) y devuelve una lista de tuplas, donde cada tupla contiene el i-ésimo elemento de cada una de las secuencias usadas como argumentos."
   ]
  },
  {
   "cell_type": "code",
   "execution_count": 119,
   "metadata": {
    "collapsed": false
   },
   "outputs": [
    {
     "data": {
      "text/plain": [
       "[(1, 'a'), (2, 'b'), (3, 'c')]"
      ]
     },
     "execution_count": 119,
     "metadata": {},
     "output_type": "execute_result"
    }
   ],
   "source": [
    "numeros = [1, 2, 3]\n",
    "letras = ['a', 'b', 'c']\n",
    "zip(numeros, letras)"
   ]
  },
  {
   "cell_type": "code",
   "execution_count": 120,
   "metadata": {
    "collapsed": false
   },
   "outputs": [
    {
     "name": "stdout",
     "output_type": "stream",
     "text": [
      "1 a\n",
      "2 b\n",
      "3 c\n"
     ]
    }
   ],
   "source": [
    "for numero, letra in zip(numeros, letras):\n",
    "    print numero, letra"
   ]
  },
  {
   "cell_type": "markdown",
   "metadata": {},
   "source": [
    "El otro bucle usado en Python (aunque con mucha menos frecuencia) es el bucle while (_while loop_). Mientras que el bucle _for_ corre _n_ cantidad de veces, el bucle _while_ lo hace hasta que una cierta condicion se cumpla."
   ]
  },
  {
   "cell_type": "code",
   "execution_count": 128,
   "metadata": {
    "collapsed": false
   },
   "outputs": [
    {
     "data": {
      "text/plain": [
       "['a', 'a', 'a', 'a']"
      ]
     },
     "execution_count": 128,
     "metadata": {},
     "output_type": "execute_result"
    }
   ],
   "source": [
    "lista = []\n",
    "while len(lista) < 4:\n",
    "    lista.append('a')\n",
    "lista"
   ]
  },
  {
   "cell_type": "markdown",
   "metadata": {},
   "source": [
    "### Control de flujo\n",
    "\n",
    "Otra característica de la programación es la necesidad de hacer evaluaciones y en función de los resultados realizar distintas acciones. Para ello en Python se usan las palabras clave _if_, _elif_ y _else_:"
   ]
  },
  {
   "cell_type": "code",
   "execution_count": 131,
   "metadata": {
    "collapsed": false
   },
   "outputs": [
    {
     "name": "stdout",
     "output_type": "stream",
     "text": [
      "verdadero\n"
     ]
    }
   ],
   "source": [
    "if True:\n",
    "    print('hola')"
   ]
  },
  {
   "cell_type": "code",
   "execution_count": 133,
   "metadata": {
    "collapsed": true
   },
   "outputs": [],
   "source": [
    "if False:\n",
    "    print('hola')"
   ]
  },
  {
   "cell_type": "code",
   "execution_count": 135,
   "metadata": {
    "collapsed": false
   },
   "outputs": [
    {
     "name": "stdout",
     "output_type": "stream",
     "text": [
      "chau\n"
     ]
    }
   ],
   "source": [
    "if 2 > 3:\n",
    "    print('hola')\n",
    "else:\n",
    "    print('chau')"
   ]
  },
  {
   "cell_type": "code",
   "execution_count": 145,
   "metadata": {
    "collapsed": false
   },
   "outputs": [
    {
     "name": "stdout",
     "output_type": "stream",
     "text": [
      "0\n",
      "2\n",
      "4\n",
      "6\n",
      "8\n",
      "10\n"
     ]
    }
   ],
   "source": [
    "for i in range(11):\n",
    "    if i % 2 == 0: # numeros pares\n",
    "        print(i)"
   ]
  },
  {
   "cell_type": "code",
   "execution_count": 155,
   "metadata": {
    "collapsed": false
   },
   "outputs": [
    {
     "name": "stdout",
     "output_type": "stream",
     "text": [
      "(0, 0)\n",
      "(1, 'a')\n",
      "(2, 2)\n",
      "(3, 9)\n",
      "(4, 4)\n",
      "(5, 'a')\n",
      "(6, 6)\n",
      "(7, 'a')\n",
      "(8, 8)\n",
      "(9, 81)\n"
     ]
    }
   ],
   "source": [
    "for i in range(10):\n",
    "    if i % 2 == 0:  # si es par\n",
    "        print(i, i)\n",
    "    elif i % 3 == 0:  # si es impar y multiplo de 3\n",
    "        print(i, i**2)\n",
    "    else:  # el resto\n",
    "        print(i, 'a')"
   ]
  },
  {
   "cell_type": "markdown",
   "metadata": {},
   "source": [
    "## Funciones\n",
    "\n",
    "En Python una función es definida usando la palabra clave `def`, seguida de un nombre para la función, una variable entre paréntesis `()`, y el símbolo de dos puntos `:`. El siguiente código, con un nivel adicional de indentación, es el cuerpo de la función."
   ]
  },
  {
   "cell_type": "code",
   "execution_count": 54,
   "metadata": {
    "collapsed": false
   },
   "outputs": [],
   "source": [
    "def func0():   \n",
    "    print(\"prueba\")"
   ]
  },
  {
   "cell_type": "code",
   "execution_count": 55,
   "metadata": {
    "collapsed": false
   },
   "outputs": [
    {
     "name": "stdout",
     "output_type": "stream",
     "text": [
      "prueba\n"
     ]
    }
   ],
   "source": [
    "func0()"
   ]
  },
  {
   "cell_type": "markdown",
   "metadata": {},
   "source": [
    "Si bien no es obligatorio es recomendable que cada función vaya acompañada de un _docstring_. Un docstring es una descripción del funcionamiento de una función, incluida una descripción de los argumentos que soporta la función. El _docstring_ es una cadena delimitada por comillas triples que se agrega directamente después de la definición de la función y antes del código de la funcion."
   ]
  },
  {
   "cell_type": "code",
   "execution_count": 11,
   "metadata": {
    "collapsed": false
   },
   "outputs": [],
   "source": [
    "def func1(s):\n",
    "    \"\"\"\n",
    "    Imprime la cadena 's' y dice cuántos caracteres tiene\n",
    "    \"\"\"\n",
    "    \n",
    "    print(s + \" tiene \" + str(len(s)) + \" caracteres\")"
   ]
  },
  {
   "cell_type": "markdown",
   "metadata": {},
   "source": [
    "No es necesario ver el código fuente para tener acceso al _docstring_"
   ]
  },
  {
   "cell_type": "code",
   "execution_count": 12,
   "metadata": {
    "collapsed": false
   },
   "outputs": [
    {
     "name": "stdout",
     "output_type": "stream",
     "text": [
      "Help on function func1 in module __main__:\n",
      "\n",
      "func1(s)\n",
      "    Imprime la cadena 's' y dice cuántos caracteres tiene\n",
      "\n"
     ]
    }
   ],
   "source": [
    "help(func1)"
   ]
  },
  {
   "cell_type": "code",
   "execution_count": 13,
   "metadata": {
    "collapsed": true
   },
   "outputs": [],
   "source": [
    "func1?"
   ]
  },
  {
   "cell_type": "code",
   "execution_count": 14,
   "metadata": {
    "collapsed": false
   },
   "outputs": [
    {
     "name": "stdout",
     "output_type": "stream",
     "text": [
      "prueba tiene 6 caracteres\n"
     ]
    }
   ],
   "source": [
    "func1(\"prueba\")"
   ]
  },
  {
   "cell_type": "markdown",
   "metadata": {},
   "source": [
    "Es común que necesitemos escribir funciones que no solo ejecuten alguna tarea si no que devuelvan valores. Por ejemplo una función que calcula el cuadrado de un número. Para ello la función debe incluir la palabra clave _return_:"
   ]
  },
  {
   "cell_type": "code",
   "execution_count": 15,
   "metadata": {
    "collapsed": false
   },
   "outputs": [],
   "source": [
    "def cuadrado(x):\n",
    "    \"\"\"\n",
    "    Calcula el cuadrado de x.\n",
    "    \"\"\"\n",
    "    return x**2"
   ]
  },
  {
   "cell_type": "code",
   "execution_count": 16,
   "metadata": {
    "collapsed": false
   },
   "outputs": [
    {
     "data": {
      "text/plain": [
       "16"
      ]
     },
     "execution_count": 16,
     "metadata": {},
     "output_type": "execute_result"
    }
   ],
   "source": [
    "cuadrado(4)"
   ]
  },
  {
   "cell_type": "markdown",
   "metadata": {},
   "source": [
    "Una funcion puede devolver más de un valor. Para ellos se hace uso de tuplas:"
   ]
  },
  {
   "cell_type": "code",
   "execution_count": 17,
   "metadata": {
    "collapsed": false
   },
   "outputs": [],
   "source": [
    "def potencias(x):\n",
    "    \"\"\"\n",
    "    Calcula las potencias, 2, 3 y 4 de x.\n",
    "    \"\"\"\n",
    "    return x**2, x**3, x**4"
   ]
  },
  {
   "cell_type": "code",
   "execution_count": 18,
   "metadata": {
    "collapsed": false
   },
   "outputs": [
    {
     "data": {
      "text/plain": [
       "(9, 27, 81)"
      ]
     },
     "execution_count": 18,
     "metadata": {},
     "output_type": "execute_result"
    }
   ],
   "source": [
    "potencias(3)"
   ]
  },
  {
   "cell_type": "markdown",
   "metadata": {},
   "source": [
    "Como vimos antes, es posible usar tuplas para asignar valores a más de una variable al mismo tiempo."
   ]
  },
  {
   "cell_type": "code",
   "execution_count": 19,
   "metadata": {
    "collapsed": false
   },
   "outputs": [
    {
     "name": "stdout",
     "output_type": "stream",
     "text": [
      "27\n"
     ]
    }
   ],
   "source": [
    "x2, x3, x4 = potencias(3)\n",
    "\n",
    "print(x3)"
   ]
  },
  {
   "cell_type": "markdown",
   "metadata": {},
   "source": [
    "En la definición de una función, podemos asignar valores por defecto a los argumentos de la función:"
   ]
  },
  {
   "cell_type": "code",
   "execution_count": 22,
   "metadata": {
    "collapsed": false
   },
   "outputs": [],
   "source": [
    "def potencia(x, p=2, debug=False):\n",
    "    if debug:\n",
    "        print(\"evaluando mifunc para x = \" + str(x) + \" usando el exponente p = \" + str(p))\n",
    "    return x**p"
   ]
  },
  {
   "cell_type": "markdown",
   "metadata": {},
   "source": [
    "Si no suministramos un valor para el argumento _debug_ ni para el argumento _p_ al llamar a la función _potencia_ se considera el valor definido por defecto:"
   ]
  },
  {
   "cell_type": "code",
   "execution_count": 21,
   "metadata": {
    "collapsed": false
   },
   "outputs": [
    {
     "data": {
      "text/plain": [
       "25"
      ]
     },
     "execution_count": 21,
     "metadata": {},
     "output_type": "execute_result"
    }
   ],
   "source": [
    "potencia(5)"
   ]
  },
  {
   "cell_type": "code",
   "execution_count": 23,
   "metadata": {
    "collapsed": false
   },
   "outputs": [
    {
     "name": "stdout",
     "output_type": "stream",
     "text": [
      "evaluando mifunc para x = 5 usando el exponente p = 2\n"
     ]
    },
    {
     "data": {
      "text/plain": [
       "25"
      ]
     },
     "execution_count": 23,
     "metadata": {},
     "output_type": "execute_result"
    }
   ],
   "source": [
    "potencia(5, debug=True)"
   ]
  },
  {
   "cell_type": "markdown",
   "metadata": {},
   "source": [
    "Si listamos explícitamente el nombre de los argumentos al llamar a una función, ellos no necesitan estar en el mismo orden usando en la definición de la función. Esto es llamado argumentos *de palabra clave* (keyword), y son a menudo muy útiles en funciones que requieren muchos argumentos opcionales."
   ]
  },
  {
   "cell_type": "code",
   "execution_count": 24,
   "metadata": {
    "collapsed": false
   },
   "outputs": [
    {
     "name": "stdout",
     "output_type": "stream",
     "text": [
      "evaluando mifunc para x = 7 usando el exponente p = 3\n"
     ]
    },
    {
     "data": {
      "text/plain": [
       "343"
      ]
     },
     "execution_count": 24,
     "metadata": {},
     "output_type": "execute_result"
    }
   ],
   "source": [
    "mifunc(p=3, debug=True, x=7)"
   ]
  },
  {
   "cell_type": "markdown",
   "metadata": {},
   "source": [
    "## List comprehension\n",
    "\n",
    "Es una forma conveniente de crear listas en general se usa como reemplazo de la siguiente expresión:"
   ]
  },
  {
   "cell_type": "code",
   "execution_count": 56,
   "metadata": {
    "collapsed": false
   },
   "outputs": [
    {
     "data": {
      "text/plain": [
       "[9, 4, 1, 0, 1, 4, 9]"
      ]
     },
     "execution_count": 56,
     "metadata": {},
     "output_type": "execute_result"
    }
   ],
   "source": [
    "potencias = []\n",
    "for i in range(-3, 4):\n",
    "    potencias.append(i**2)\n",
    "potencias"
   ]
  },
  {
   "cell_type": "code",
   "execution_count": 57,
   "metadata": {
    "collapsed": false
   },
   "outputs": [
    {
     "data": {
      "text/plain": [
       "[9, 4, 1, 0, 1, 4, 9]"
      ]
     },
     "execution_count": 57,
     "metadata": {},
     "output_type": "execute_result"
    }
   ],
   "source": [
    "potencias = [i**2 for i in range(-3,4)]\n",
    "potencias"
   ]
  },
  {
   "cell_type": "markdown",
   "metadata": {},
   "source": [
    "En general la sintaxis es [_elemento_ for _elemento_ in _Lista_ if _Condición_]"
   ]
  },
  {
   "cell_type": "code",
   "execution_count": 58,
   "metadata": {
    "collapsed": false
   },
   "outputs": [
    {
     "data": {
      "text/plain": [
       "[4, 0, 4]"
      ]
     },
     "execution_count": 58,
     "metadata": {},
     "output_type": "execute_result"
    }
   ],
   "source": [
    "[i**2 for i in range(-3,4) if i%2 == 0]"
   ]
  },
  {
   "cell_type": "markdown",
   "metadata": {},
   "source": [
    "La sintaxis de las _list comprehension_ están tomadas de la notación matemática usada en teoría de conjuntos y al principio puede parecer extraña pero en muchas situaciones (como la descripta anteriormente) es considerada la forma preferida y más clara (o forma más _pythonica_)."
   ]
  },
  {
   "cell_type": "markdown",
   "metadata": {},
   "source": [
    "## Clases\n",
    "\n",
    "Las clases son una característica clave de la programación orientada a objetos (uno de los paradigmas de programación). Una clase es una estructura para representar un objeto y las operaciones que pueden ser realizadas sobre el objeto. \n",
    "\n",
    "En Python una clase puede contener *atributos* (variables) y *métodos* (funciones).\n",
    "\n",
    "En Python una clase es definida casi como una función, pero usando la palabra clave `class`, y la definición de la clase usualmente contiene algunas definiciones de métodos (una función en una clase).\n",
    "\n",
    "* Cada método de una clase debería tener un argumento `self` como su primer argumento. Este objeto es una autoreferencia.\n",
    "\n",
    "* Algunos nombres de métodos de clases tienen un significado especial, por ejemplo:\n",
    "\n",
    " * `__init__`: El nombre del método que es invocado cuando el objeto es creado por primera vez.\n",
    " * `__str__` : Un método que es invocado cuando se necesita una simple representación de cadena de la clase, como por ejemplo cuando se imprime.\n",
    " * Existen muchas más, ver http://docs.python.org/2/reference/datamodel.html#special-method-names"
   ]
  },
  {
   "cell_type": "code",
   "execution_count": 59,
   "metadata": {
    "collapsed": false
   },
   "outputs": [],
   "source": [
    "class Punto:\n",
    "    \"\"\"\n",
    "    Clase simple para representar un punto en un sistema de coordenadas cartesiano.\n",
    "    \"\"\"\n",
    "    \n",
    "    def __init__(self, x, y):\n",
    "        \"\"\"\n",
    "        Crea un nuevo punto en x, y.\n",
    "        \"\"\"\n",
    "        self.x = x\n",
    "        self.y = y\n",
    "        \n",
    "    def traslada(self, dx, dy):\n",
    "        \"\"\"\n",
    "        Traslada el punto en dx y dy en las direcciones x e y respectivamente.\n",
    "        \"\"\"\n",
    "        self.x += dx\n",
    "        self.y += dy\n",
    "        \n",
    "    def __str__(self):\n",
    "        return(\"Punto en [%f, %f]\" % (self.x, self.y))"
   ]
  },
  {
   "cell_type": "markdown",
   "metadata": {},
   "source": [
    "Para crear una nueva instancia de una clase:"
   ]
  },
  {
   "cell_type": "code",
   "execution_count": 60,
   "metadata": {
    "collapsed": false
   },
   "outputs": [
    {
     "name": "stdout",
     "output_type": "stream",
     "text": [
      "Punto en [0.000000, 0.000000]\n"
     ]
    }
   ],
   "source": [
    "p1 = Punto(0, 0) # eso invoca el método __init__ en la cláse Punto\n",
    "\n",
    "print(p1)         # esto invoca el método __str__ "
   ]
  },
  {
   "cell_type": "markdown",
   "metadata": {},
   "source": [
    "Para invocar un método en la instancia de clase `p`:"
   ]
  },
  {
   "cell_type": "code",
   "execution_count": 61,
   "metadata": {
    "collapsed": false
   },
   "outputs": [
    {
     "name": "stdout",
     "output_type": "stream",
     "text": [
      "Punto en [0.250000, 1.500000]\n",
      "Punto en [1.000000, 1.000000]\n"
     ]
    }
   ],
   "source": [
    "p2 = Punto(1, 1)\n",
    "\n",
    "p1.traslada(0.25, 1.5)\n",
    "\n",
    "print(p1)\n",
    "print(p2)"
   ]
  },
  {
   "cell_type": "markdown",
   "metadata": {},
   "source": [
    "Note que llamar a métodos de clases puede modificar el estado de esa instancia de clase particular, pero no afecta otras instancias de la clase o alguna otra variable global.\n",
    "\n",
    "Esto es una de las cosas buenas de un diseño orientado al objeto: código como las funciones y variables relacionadas son agrupadas en entidades separadas e independientes. "
   ]
  },
  {
   "cell_type": "markdown",
   "metadata": {},
   "source": [
    "## Modulos y Librerías\n",
    "\n",
    "La funcionalidad de Python puede ser extendida utilizando librerías o módulos. A grandes rasgos la diferencia entre librería y módulo es que un módulo es un programa de Python y una librería es una colección de modulos. Python viene preinstalado con La Librería Estandard que es una colección de módulos para diversas tareas. Algunos de ellos son:\n",
    "\n",
    "* `math` (funciones matemáticas)\n",
    "* `os` (interfaz con el sistema operativo)\n",
    "* `sys` (parámetros y funciones específicas del sistema)\n",
    "* `shutil` (operaciones con archivos)\n",
    "* `subprocess` (comunicación entre procesos)\n",
    "\n",
    "\n",
    "Para usar un módulo en Python hay que importalo usando el comando _import_. Por ejemplo, para importar el módulo _math_, que contiene muchas funciones matemáticas, usamos:"
   ]
  },
  {
   "cell_type": "code",
   "execution_count": 1,
   "metadata": {
    "collapsed": false
   },
   "outputs": [],
   "source": [
    "import math"
   ]
  },
  {
   "cell_type": "markdown",
   "metadata": {},
   "source": [
    "De esta forma ahora tenemos disponible las funciones contenidas en _math_."
   ]
  },
  {
   "cell_type": "code",
   "execution_count": 3,
   "metadata": {
    "collapsed": false
   },
   "outputs": [
    {
     "name": "stdout",
     "output_type": "stream",
     "text": [
      "1.0\n"
     ]
    }
   ],
   "source": [
    "x = math.cos(2 * math.pi)\n",
    "\n",
    "print(x)"
   ]
  },
  {
   "cell_type": "markdown",
   "metadata": {},
   "source": [
    "Alternativamente, podemos elegir importar funciones individuales. Esto puede ser util si solo vamos a usar un grupo reducido de funciones (además de que nos ahorra tener que escribir el nombre del módulo como prefijo)."
   ]
  },
  {
   "cell_type": "code",
   "execution_count": 4,
   "metadata": {
    "collapsed": false
   },
   "outputs": [
    {
     "name": "stdout",
     "output_type": "stream",
     "text": [
      "1.0\n"
     ]
    }
   ],
   "source": [
    "from math import cos, pi\n",
    "\n",
    "x = cos(2 * pi)\n",
    "\n",
    "print(x)"
   ]
  },
  {
   "cell_type": "markdown",
   "metadata": {},
   "source": [
    "Como una tercera alternativa, podemos importar todo el contenido de una libreria usando _import *_:"
   ]
  },
  {
   "cell_type": "code",
   "execution_count": 5,
   "metadata": {
    "collapsed": false
   },
   "outputs": [
    {
     "data": {
      "text/plain": [
       "1.0"
      ]
     },
     "execution_count": 5,
     "metadata": {},
     "output_type": "execute_result"
    }
   ],
   "source": [
    "from math import *\n",
    "\n",
    "x = cos(2 * pi)\n",
    "x"
   ]
  },
  {
   "cell_type": "markdown",
   "metadata": {},
   "source": [
    "Esta forma de proceder puede parecerconveniente, pero en programas largos que incluyen muchos módulos es a menudo una mala idea por que puede conducir a confusiones provocadas por colisiones de nombres."
   ]
  },
  {
   "cell_type": "markdown",
   "metadata": {},
   "source": [
    "Luego que se ha cargado un módulo, Ipython nos permite inspeccionarlo usando las siguientes opciones:\n",
    "* ponemos el cursor al final del nombre del módulo y presionamos _shift + tab_.\n",
    "* ponemos el cursor al final del nombre del módulo y agregamos 1 o 2 signos de interrogación _?_.\n",
    "* agregamos un punto al final del nombre del módulo y presionamos tab."
   ]
  },
  {
   "cell_type": "code",
   "execution_count": 12,
   "metadata": {
    "collapsed": false
   },
   "outputs": [],
   "source": [
    "import math\n",
    "\n",
    "math"
   ]
  },
  {
   "cell_type": "markdown",
   "metadata": {},
   "source": [
    "Alternativamente podemos usar la función _help_ para obtener una descripción de cada las funciones contenidas en una librería. Esto funciona para todo un módulo o para una función en particular."
   ]
  },
  {
   "cell_type": "code",
   "execution_count": 15,
   "metadata": {
    "collapsed": false
   },
   "outputs": [
    {
     "name": "stdout",
     "output_type": "stream",
     "text": [
      "Help on built-in function ceil in module math:\n",
      "\n",
      "ceil(...)\n",
      "    ceil(x)\n",
      "    \n",
      "    Return the ceiling of x as a float.\n",
      "    This is the smallest integral value >= x.\n",
      "\n"
     ]
    }
   ],
   "source": [
    "help(math.ceil)"
   ]
  },
  {
   "cell_type": "markdown",
   "metadata": {},
   "source": [
    "Si deseamos escribir nuestro propio módulo basta con escribir un archivo en Python y guardalo con extensión _.py_. Para importarlo usamos el comando _import_, como ya vimos.\n",
    "\n",
    "Así como las funciones y clases permiten encapsular y reusar codigo aumentando la legibilidad de los programas y reduciendo la probabilidad de cometer errores es posible crear nuestros própios modulos. Dicho esto podemos decir entonces que los módulos de Python son construcciones de programación modular de más alto nivel, donde podemos colectar variables relacionadas, funciones y clases. "
   ]
  },
  {
   "cell_type": "markdown",
   "metadata": {},
   "source": [
    "## Excepciones\n",
    "\n",
    "Los errores y como solucionarlo son parte integral de la programación. Como dijo Edsger W. Dijkstra \"Si el _debugging_ es el proceso de remover errores, entonces la programación es el proceso de agregar errores\".\n",
    "\n",
    "Hay errores como los de syntaxis o semántica que deben ser eliminados de un programa a fin de que el programa funcione adecuadamente. Hay otro tipo de errores que no pueden ser eliminados pero si anticipados. Por ejemplo si tuvieramos un programa que requiere que un usaurio ingrese números, pero el usuario ingresa una letras. En ese caso el programa debera ser capaz de lidiar con el error (en vez de simplemente dejar de funcionar), por ej reportando al usuario un mensaje de error.\n",
    "\n",
    "leer más http://docs.quantifiedcode.com/python-code-patterns/correctness/no_exception_type_specified.html?highlight=except\n",
    "\n",
    "https://docs.python.org/2/library/exceptions.html"
   ]
  },
  {
   "cell_type": "code",
   "execution_count": 39,
   "metadata": {
    "collapsed": false
   },
   "outputs": [
    {
     "name": "stdout",
     "output_type": "stream",
     "text": [
      "4\n",
      "Usted no ha ingresado un número \n",
      "100\n",
      "100\n"
     ]
    }
   ],
   "source": [
    "valores = [2, 'casa', 10., '10']\n",
    "for i in valores:\n",
    "    try:\n",
    "        print int(i)**2\n",
    "    except ValueError:\n",
    "        print \"Usted no ha ingresado un número \""
   ]
  },
  {
   "cell_type": "markdown",
   "metadata": {},
   "source": [
    "Para obtener información sobre un error, podemos hacer lo siguiente"
   ]
  },
  {
   "cell_type": "code",
   "execution_count": 43,
   "metadata": {
    "collapsed": false
   },
   "outputs": [
    {
     "name": "stdout",
     "output_type": "stream",
     "text": [
      "4\n",
      "Usted no ha ingresado un número\n",
      "invalid literal for int() with base 10: 'casa'\n",
      "100\n",
      "100\n"
     ]
    }
   ],
   "source": [
    "for i in valores:\n",
    "    try:\n",
    "        print int(i)**2\n",
    "    except ValueError, e:\n",
    "        print \"Usted no ha ingresado un número\\n%s\" % e"
   ]
  },
  {
   "cell_type": "code",
   "execution_count": 46,
   "metadata": {
    "collapsed": false
   },
   "outputs": [
    {
     "name": "stdout",
     "output_type": "stream",
     "text": [
      "ZeroDivisionError\n",
      "Exception\n",
      "0.5\n",
      "Exception\n"
     ]
    }
   ],
   "source": [
    "valores = [0, 'casa', 10., '10']\n",
    "for i in valores:\n",
    "    try:\n",
    "        print 5 / i\n",
    "    except ZeroDivisionError as e:\n",
    "        print \"ZeroDivisionError\"\n",
    "    except Exception as e:\n",
    "        print \"Exception\""
   ]
  },
  {
   "cell_type": "markdown",
   "metadata": {},
   "source": [
    "## Lectura adicional\n",
    "\n",
    "* [Documentación oficial Python](https://docs.python.org/2/index.html) (en Inglés)\n",
    "* [Material en español](https://wiki.python.org/moin/SpanishLanguage). La mayor parte del material corresponde a traducciones del ingles. (No en todos los casos completa).\n",
    "* [http://www.python.org/dev/peps/pep-0008](http://www.python.org/dev/peps/pep-0008) - Guía de estilo para la programación en Python. (en inglés).\n",
    "* [http://www.greenteapress.com/thinkpython/](http://www.greenteapress.com/thinkpython/) - Un libro gratuito sobre Python.\n",
    "\n",
    "Esta notebook está basada en:\n",
    "\n",
    "* [http://github.com/jrjohansson/scientific-python-lectures](http://github.com/jrjohansson/scientific-python-lectures).\n",
    "\n",
    "\n",
    "* [http://github.com/gfrubi/clases-python-cientifico](http://github.com/gfrubi/clases-python-cientifico).\n",
    "\n",
    "\n"
   ]
  },
  {
   "cell_type": "code",
   "execution_count": 1,
   "metadata": {
    "collapsed": false
   },
   "outputs": [
    {
     "name": "stdout",
     "output_type": "stream",
     "text": [
      "Este notebook fue creada con: Python 2.7.9 (default, Apr  2 2015, 15:33:21) \n",
      "[GCC 4.9.2] e IPython 3.1.0.\n"
     ]
    }
   ],
   "source": [
    "import sys\n",
    "import IPython\n",
    "print(\"Este notebook fue creada con: Python %s e IPython %s.\" % (sys.version, IPython.__version__))"
   ]
  },
  {
   "cell_type": "code",
   "execution_count": null,
   "metadata": {
    "collapsed": true
   },
   "outputs": [],
   "source": []
  }
 ],
 "metadata": {
  "kernelspec": {
   "display_name": "Python 2",
   "language": "python",
   "name": "python2"
  },
  "language_info": {
   "codemirror_mode": {
    "name": "ipython",
    "version": 2
   },
   "file_extension": ".py",
   "mimetype": "text/x-python",
   "name": "python",
   "nbconvert_exporter": "python",
   "pygments_lexer": "ipython2",
   "version": "2.7.9"
  }
 },
 "nbformat": 4,
 "nbformat_minor": 0
}
