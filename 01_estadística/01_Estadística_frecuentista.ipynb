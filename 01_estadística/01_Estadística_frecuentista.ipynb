{
 "cells": [
  {
   "cell_type": "markdown",
   "metadata": {},
   "source": [
    "# Table of Contents\n",
    "* [1. Estadística frecuentista](#1.-Estadística-frecuentista)\n",
    "\t* [1.1 Maximum Likelihood (Máxima Verosimilitud)](#1.1-Maximum-Likelihood-%28Máxima-Verosimilitud%29)\n"
   ]
  },
  {
   "cell_type": "code",
   "execution_count": null,
   "metadata": {
    "collapsed": true
   },
   "outputs": [],
   "source": [
    "%matplotlib inline\n",
    "import numpy as np\n",
    "from scipy import stats\n",
    "import matplotlib.pyplot as plt\n",
    "import seaborn as sns\n",
    "from IPython.display import Image"
   ]
  },
  {
   "cell_type": "markdown",
   "metadata": {},
   "source": [
    "# 1. Estadística frecuentista"
   ]
  },
  {
   "cell_type": "markdown",
   "metadata": {},
   "source": [
    "Existen dos grandes paradigmas en estadística inferencial. La estadística clásica (o frecuentista) y la estadística Bayesiana. A pesar de ser llamada _clásica_ la estadística frecuentista fue desarrollada posteriormente a la Bayesiana y en cierto grado como respuesta a la supuesta _subjetividad_ de la estadística Bayesiana. Gran parte de la estadística desarrollada en el siglo XX y gran parte de los métodos de Machine Learning han sido desarrollados bajo el paradigma frecuenstista. Aunque esto ha comenzado a cambiar, y el desarrollo y aplicación de métodos Bayesianos a venid o en aumento desde aproximadamente la mitad del siglo XX.\n",
    "\n",
    "En este capítulo discutimos, brevemente, conceptos de estadística inferencial desde el punto de vista frecuentista.\n",
    "\n",
    "This chapter introduces the main concepts of statistical inference, or drawing\n",
    "conclusions from data. There are three main types of inference:\n",
    "Point estimation: What is the best estimate for a model parameter θ , based on\n",
    "the available data?\n",
    "• Confidence estimation: How confident should we be in our point estimate?\n",
    "• Hypothesis testing: Are data at hand consistent with a given hypothesis or\n",
    "model?\n",
    "•\n",
    "There are two major statistical paradigms which address the statistical inference\n",
    "questions: the classical, or frequentist paradigm, and the Bayesian paradigm (despite\n",
    "the often-used adjective “classical,” historically the frequentist paradigm was devel-\n",
    "oped after the Bayesian paradigm). While most of statistics and machine learning\n",
    "is based on the classical paradigm, Bayesian techniques are being embraced by\n",
    "the statistical and scientific communities at an ever-increasing pace. These two\n",
    "paradigms are sufficiently different that we discuss them in separate chapters.\n",
    "In this chapter we begin with a short comparison of classical and Bayesian\n",
    "paradigms, and then discuss the three main types of statistical inference from the\n",
    "classical point of view. The following chapter attempts to follow the same structure\n",
    "as this chapter, but from the Bayesian point of view. The topics covered in these two\n",
    "chapters complete the foundations for the remaining chapters on exploratory data\n",
    "analysis and data-based prediction methods.\n",
    "\n",
    "Classical or frequentist statistics is based on these tenets:\n",
    "Probabilities refer to relative frequencies of events. They are objective properties\n",
    "of the real world.\n",
    "• Parameters (such as the fraction of coin flips, for a certain coin, that are heads)\n",
    "are fixed, unknown constants. Because they are not fluctuating, probability\n",
    "statements about parameters are meaningless.\n",
    "• Statistical procedures should have well-defined long-run frequency properties.\n",
    "For example, a 95% confidence interval should bracket the true value of the\n",
    "parameter with a limiting frequency of at least 95%.\n",
    "•\n",
    "In contrast, Bayesian inference takes this stance:\n",
    "Probability describes the degree of subjective belief, not the limiting frequency.\n",
    "Probability statements can be made about things other than data, including\n",
    "model parameters and models themselves.\n",
    "• Inferences about a parameter are made by producing its probability\n",
    "distribution—this distribution quantifies the uncertainty of our knowledge\n",
    "about that parameter. Various point estimates, such as expectation value, may\n",
    "then be readily extracted from this distribution.\n",
    "•\n",
    "Note that both are equally concerned with uncertainties about estimates. The main\n",
    "difference is whether one is allowed, or not, to discuss the “probability” of some\n",
    "aspect of the fixed universe having a certain value. The choice between the two\n",
    "paradigms is in some sense a philosophical subtlety, but also has very real practical\n",
    "consequences. In terms of philosophy, there is a certain symmetry and thus elegance\n",
    "in the Bayesian construction giving a “grand unified theory” feel to it that appeals\n",
    "naturally to the sensibilities of many scientists.\n",
    "In terms of pragmatism, the Bayesian approach is accompanied by significant\n",
    "difficulties, particularly when it comes to computation. Despite much advancement\n",
    "in the past few decades, these challenges should not be underestimated. In addition,\n",
    "the results of classical statistics are often the same as Bayesian results, and still\n",
    "represent a standard for reporting scientific results. Therefore, despite many strong\n",
    "advantages of the Bayesian approach, classical statistical procedures cannot be\n",
    "simply and fully replaced by Bayesian results. Indeed, maximum likelihood analysis,\n",
    "described next, is a major concept in both paradigms."
   ]
  },
  {
   "cell_type": "markdown",
   "metadata": {},
   "source": [
    "## 1.1 Maximum Likelihood (Máxima Verosimilitud)"
   ]
  },
  {
   "cell_type": "markdown",
   "metadata": {},
   "source": [
    "We will start with maximum likelihood estimation (MLE), a common special case of\n",
    "the larger frequentist world. It is a good starting point because Bayesian estimation in\n",
    "the next chapter builds directly on top of the apparatus of maximum likelihood. The\n",
    "frequentist world, however, is not tied to the likelihood (as Bayesian estimation is),\n",
    "and we will also visit additional ideas outside of likelihood-based approaches later in\n",
    "this section (§4.2.8)."
   ]
  },
  {
   "cell_type": "code",
   "execution_count": 2,
   "metadata": {
    "collapsed": false
   },
   "outputs": [
    {
     "ename": "NameError",
     "evalue": "name 'np' is not defined",
     "output_type": "error",
     "traceback": [
      "\u001b[1;31m---------------------------------------------------------------------------\u001b[0m",
      "\u001b[1;31mNameError\u001b[0m                                 Traceback (most recent call last)",
      "\u001b[1;32m<ipython-input-2-bdb6e48ef893>\u001b[0m in \u001b[0;36m<module>\u001b[1;34m()\u001b[0m\n\u001b[0;32m      1\u001b[0m \u001b[1;32mimport\u001b[0m \u001b[0msys\u001b[0m\u001b[1;33m,\u001b[0m \u001b[0mIPython\u001b[0m\u001b[1;33m,\u001b[0m \u001b[0mscipy\u001b[0m\u001b[1;33m,\u001b[0m \u001b[0mmatplotlib\u001b[0m\u001b[1;33m,\u001b[0m \u001b[0mplatform\u001b[0m\u001b[1;33m\u001b[0m\u001b[0m\n\u001b[1;32m----> 2\u001b[1;33m \u001b[1;32mprint\u001b[0m\u001b[1;33m(\u001b[0m\u001b[1;34m\"Esta notebook fue creada en una computadora %s corriendo %s y usando:\\nPython %s\\nIPython %s\\nNumPy %s\\nSciPy %s\\nMatplotlib %s\\nSeaborn %s\\n\"\u001b[0m \u001b[1;33m%\u001b[0m \u001b[1;33m(\u001b[0m\u001b[0mplatform\u001b[0m\u001b[1;33m.\u001b[0m\u001b[0mmachine\u001b[0m\u001b[1;33m(\u001b[0m\u001b[1;33m)\u001b[0m\u001b[1;33m,\u001b[0m \u001b[1;34m' '\u001b[0m\u001b[1;33m.\u001b[0m\u001b[0mjoin\u001b[0m\u001b[1;33m(\u001b[0m\u001b[0mplatform\u001b[0m\u001b[1;33m.\u001b[0m\u001b[0mlinux_distribution\u001b[0m\u001b[1;33m(\u001b[0m\u001b[1;33m)\u001b[0m\u001b[1;33m[\u001b[0m\u001b[1;33m:\u001b[0m\u001b[1;36m2\u001b[0m\u001b[1;33m]\u001b[0m\u001b[1;33m)\u001b[0m\u001b[1;33m,\u001b[0m \u001b[0msys\u001b[0m\u001b[1;33m.\u001b[0m\u001b[0mversion\u001b[0m\u001b[1;33m[\u001b[0m\u001b[1;33m:\u001b[0m\u001b[1;36m5\u001b[0m\u001b[1;33m]\u001b[0m\u001b[1;33m,\u001b[0m \u001b[0mIPython\u001b[0m\u001b[1;33m.\u001b[0m\u001b[0m__version__\u001b[0m\u001b[1;33m,\u001b[0m \u001b[0mnp\u001b[0m\u001b[1;33m.\u001b[0m\u001b[0m__version__\u001b[0m\u001b[1;33m,\u001b[0m \u001b[0mscipy\u001b[0m\u001b[1;33m.\u001b[0m\u001b[0m__version__\u001b[0m\u001b[1;33m,\u001b[0m \u001b[0mmatplotlib\u001b[0m\u001b[1;33m.\u001b[0m\u001b[0m__version__\u001b[0m\u001b[1;33m,\u001b[0m \u001b[0msns\u001b[0m\u001b[1;33m.\u001b[0m\u001b[0m__version__\u001b[0m\u001b[1;33m)\u001b[0m\u001b[1;33m)\u001b[0m\u001b[1;33m\u001b[0m\u001b[0m\n\u001b[0m",
      "\u001b[1;31mNameError\u001b[0m: name 'np' is not defined"
     ]
    }
   ],
   "source": [
    "import sys, IPython, scipy, matplotlib, platform\n",
    "print(\"Esta notebook fue creada en una computadora %s corriendo %s y usando:\\nPython %s\\nIPython %s\\nNumPy %s\\nSciPy %s\\nMatplotlib %s\\nSeaborn %s\\n\" % (platform.machine(), ' '.join(platform.linux_distribution()[:2]), sys.version[:5], IPython.__version__, np.__version__, scipy.__version__, matplotlib.__version__, sns.__version__))"
   ]
  },
  {
   "cell_type": "code",
   "execution_count": null,
   "metadata": {
    "collapsed": true
   },
   "outputs": [],
   "source": []
  }
 ],
 "metadata": {
  "kernelspec": {
   "display_name": "Python 2",
   "language": "python",
   "name": "python2"
  },
  "language_info": {
   "codemirror_mode": {
    "name": "ipython",
    "version": 2
   },
   "file_extension": ".py",
   "mimetype": "text/x-python",
   "name": "python",
   "nbconvert_exporter": "python",
   "pygments_lexer": "ipython2",
   "version": "2.7.9"
  }
 },
 "nbformat": 4,
 "nbformat_minor": 0
}
